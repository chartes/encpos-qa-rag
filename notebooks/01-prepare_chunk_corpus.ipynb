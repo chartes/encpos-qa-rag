{
 "cells": [
  {
   "cell_type": "markdown",
   "id": "cd8aa6ddc3f16fc9",
   "metadata": {},
   "source": [
    "# 01 - Prepare & chunk corpus"
   ]
  },
  {
   "cell_type": "markdown",
   "id": "95098c4f20814e72",
   "metadata": {},
   "source": [
    "Description du notebook :\n",
    "- charge les positions de thèses depuis un fichier TSV structuré,\n",
    "- effectue une analyse exploratoire du corpus,\n",
    "- applique une stratégie de découpage (chunking) custom,\n",
    "- prépare les données pour une indexation vectorielle future (composant du Retriever dans le RAG)\n",
    "\n",
    "\n",
    "ℹ️ Tous les paramètres (modèles, chemins, chunking, etc.) sont externalisés dans [`config.yml`](../config.yml),\n",
    "ce qui permet de relancer facilement le notebook avec d'autres réglages."
   ]
  },
  {
   "cell_type": "code",
   "execution_count": 1,
   "id": "e550c4a13d237286",
   "metadata": {
    "ExecuteTime": {
     "end_time": "2025-07-02T18:08:09.936054Z",
     "start_time": "2025-07-02T18:08:06.100245Z"
    }
   },
   "outputs": [],
   "source": [
    "# Imports globaux\n",
    "\n",
    "import os\n",
    "import unicodedata\n",
    "import pandas as pd\n",
    "import matplotlib.pyplot as plt\n",
    "from tqdm import tqdm\n",
    "from joblib import Parallel, delayed\n",
    "from transformers import AutoTokenizer\n",
    "from langchain.text_splitter import RecursiveCharacterTextSplitter\n",
    "from utils.io_utils import (get_absolute_path,\n",
    "                            read_yaml)"
   ]
  },
  {
   "cell_type": "markdown",
   "id": "9a6add4b690cd5bd",
   "metadata": {},
   "source": [
    "## Chargement de la configuration"
   ]
  },
  {
   "cell_type": "code",
   "execution_count": 2,
   "id": "25980a1c",
   "metadata": {
    "ExecuteTime": {
     "end_time": "2025-07-02T18:08:09.945017Z",
     "start_time": "2025-07-02T18:08:09.939587Z"
    }
   },
   "outputs": [],
   "source": [
    "config = read_yaml(\"../config.yml\")\n",
    "\n",
    "data_path = get_absolute_path(config['data']['source'])\n",
    "CHUNK_SIZE = config['chunking']['chunk_size']\n",
    "# on calcule le chunk overlap comme 10% de la taille du chunk. Ce qui permet de définir dynamiquement le chunk overlap pour éviter les erreurs de taille.\n",
    "CHUNK_OVERLAP =  int(CHUNK_SIZE / 10)\n",
    "TEXT_COL = config['data']['text_column']"
   ]
  },
  {
   "cell_type": "markdown",
   "id": "4d46c449a165d815",
   "metadata": {},
   "source": [
    "## Chargement des données\n",
    "\n",
    "e dataset comprend les 3057 thèses disponibles sur le site [https://theses.chartes.psl.eu/](https://theses.chartes.psl.eu/) via un scrapper qui utilise l'API DoTS.\n",
    "\n",
    "Modèle de données\n",
    "\n",
    "---\n",
    "\n",
    "- `text` : the text of the document that will be vectorized indexed. Each text row corresponding to a signifiant section of the document (e.g. introduction, chapters, conclusion, appendices, etc.) and corresponding to a first \"semantic chunking\" of the document.\n",
    "\n",
    "and the metadata columns (important to retrieve and identify the document later):\n",
    "- `unique_id` : the unique identifier of the document (e.g. \"ENCPOS_2023_01_5\"; \"01\": first thesis of the collection year 2023, \"5\": section 5 of the thesis)\n",
    "- `file_id` : the identifier of the document (util for research in Web)\n",
    "- `author` : the author of the document (positions de thèses)\n",
    "- `section` : the section title of the document (e.g. introduction, chapters, conclusion, appendices, etc.)\n",
    "- `title` : the title of the document\n",
    "- `position_name` : the name of the position\n",
    "- `year` : the year of the document\n",
    "- `text_token_length` : the length of the text in tokens"
   ]
  },
  {
   "cell_type": "code",
   "execution_count": 3,
   "id": "cc39eacd",
   "metadata": {
    "ExecuteTime": {
     "end_time": "2025-07-02T18:08:10.437525Z",
     "start_time": "2025-07-02T18:08:10.046668Z"
    }
   },
   "outputs": [
    {
     "data": {
      "text/html": [
       "<div>\n",
       "<style scoped>\n",
       "    .dataframe tbody tr th:only-of-type {\n",
       "        vertical-align: middle;\n",
       "    }\n",
       "\n",
       "    .dataframe tbody tr th {\n",
       "        vertical-align: top;\n",
       "    }\n",
       "\n",
       "    .dataframe thead th {\n",
       "        text-align: right;\n",
       "    }\n",
       "</style>\n",
       "<table border=\"1\" class=\"dataframe\">\n",
       "  <thead>\n",
       "    <tr style=\"text-align: right;\">\n",
       "      <th></th>\n",
       "      <th>unique_id</th>\n",
       "      <th>file_id</th>\n",
       "      <th>year</th>\n",
       "      <th>author</th>\n",
       "      <th>position_name</th>\n",
       "      <th>section</th>\n",
       "      <th>text</th>\n",
       "      <th>text_token_length</th>\n",
       "    </tr>\n",
       "  </thead>\n",
       "  <tbody>\n",
       "    <tr>\n",
       "      <th>0</th>\n",
       "      <td>ENCPOS_1849_01_1</td>\n",
       "      <td>ENCPOS_1849_01</td>\n",
       "      <td>1849</td>\n",
       "      <td>Léon de Bastard d'Estang</td>\n",
       "      <td>Recherches sur l’origine et la nature des insu...</td>\n",
       "      <td>I.</td>\n",
       "      <td>L’ insurrection de 1106 contre l’abbé Artaud a...</td>\n",
       "      <td>21</td>\n",
       "    </tr>\n",
       "    <tr>\n",
       "      <th>1</th>\n",
       "      <td>ENCPOS_1849_01_2</td>\n",
       "      <td>ENCPOS_1849_01</td>\n",
       "      <td>1849</td>\n",
       "      <td>Léon de Bastard d'Estang</td>\n",
       "      <td>Recherches sur l’origine et la nature des insu...</td>\n",
       "      <td>II.</td>\n",
       "      <td>La conspiration des bourgeois sous l’abbé Albé...</td>\n",
       "      <td>20</td>\n",
       "    </tr>\n",
       "    <tr>\n",
       "      <th>2</th>\n",
       "      <td>ENCPOS_1849_01_3</td>\n",
       "      <td>ENCPOS_1849_01</td>\n",
       "      <td>1849</td>\n",
       "      <td>Léon de Bastard d'Estang</td>\n",
       "      <td>Recherches sur l’origine et la nature des insu...</td>\n",
       "      <td>III.</td>\n",
       "      <td>L’ insurrection communale proprement dite, ver...</td>\n",
       "      <td>13</td>\n",
       "    </tr>\n",
       "    <tr>\n",
       "      <th>3</th>\n",
       "      <td>ENCPOS_1849_01_4</td>\n",
       "      <td>ENCPOS_1849_01</td>\n",
       "      <td>1849</td>\n",
       "      <td>Léon de Bastard d'Estang</td>\n",
       "      <td>Recherches sur l’origine et la nature des insu...</td>\n",
       "      <td>IV.</td>\n",
       "      <td>L’origine de cette insurrection remonte à la r...</td>\n",
       "      <td>18</td>\n",
       "    </tr>\n",
       "    <tr>\n",
       "      <th>4</th>\n",
       "      <td>ENCPOS_1849_01_5</td>\n",
       "      <td>ENCPOS_1849_01</td>\n",
       "      <td>1849</td>\n",
       "      <td>Léon de Bastard d'Estang</td>\n",
       "      <td>Recherches sur l’origine et la nature des insu...</td>\n",
       "      <td>V.</td>\n",
       "      <td>La commune, qui en est la suite, n’a qu’une ex...</td>\n",
       "      <td>25</td>\n",
       "    </tr>\n",
       "  </tbody>\n",
       "</table>\n",
       "</div>"
      ],
      "text/plain": [
       "          unique_id         file_id  year                    author  \\\n",
       "0  ENCPOS_1849_01_1  ENCPOS_1849_01  1849  Léon de Bastard d'Estang   \n",
       "1  ENCPOS_1849_01_2  ENCPOS_1849_01  1849  Léon de Bastard d'Estang   \n",
       "2  ENCPOS_1849_01_3  ENCPOS_1849_01  1849  Léon de Bastard d'Estang   \n",
       "3  ENCPOS_1849_01_4  ENCPOS_1849_01  1849  Léon de Bastard d'Estang   \n",
       "4  ENCPOS_1849_01_5  ENCPOS_1849_01  1849  Léon de Bastard d'Estang   \n",
       "\n",
       "                                       position_name section  \\\n",
       "0  Recherches sur l’origine et la nature des insu...      I.   \n",
       "1  Recherches sur l’origine et la nature des insu...     II.   \n",
       "2  Recherches sur l’origine et la nature des insu...    III.   \n",
       "3  Recherches sur l’origine et la nature des insu...     IV.   \n",
       "4  Recherches sur l’origine et la nature des insu...      V.   \n",
       "\n",
       "                                                text  text_token_length  \n",
       "0  L’ insurrection de 1106 contre l’abbé Artaud a...                 21  \n",
       "1  La conspiration des bourgeois sous l’abbé Albé...                 20  \n",
       "2  L’ insurrection communale proprement dite, ver...                 13  \n",
       "3  L’origine de cette insurrection remonte à la r...                 18  \n",
       "4  La commune, qui en est la suite, n’a qu’une ex...                 25  "
      ]
     },
     "execution_count": 3,
     "metadata": {},
     "output_type": "execute_result"
    }
   ],
   "source": [
    "df = pd.read_csv(data_path, sep=\"\\t\", encoding=\"utf-8\")\n",
    "# First ensure the columns are in the right format: Check if the columns exist and convert them to the appropriate types, check non null values\n",
    "df['year'] = pd.to_numeric(df['year'], errors='coerce').fillna(0).astype(int)\n",
    "for col in ['file_id', 'unique_id', 'author', 'section', 'text', 'position_name']:\n",
    "    df[col] = df[col].astype(str)\n",
    "\n",
    "df.head()"
   ]
  },
  {
   "cell_type": "markdown",
   "id": "5807d5325634c41",
   "metadata": {},
   "source": [
    "## Analyse statistique"
   ]
  },
  {
   "cell_type": "code",
   "execution_count": 4,
   "id": "a90b4a3d",
   "metadata": {
    "ExecuteTime": {
     "end_time": "2025-07-02T18:08:10.446816Z",
     "start_time": "2025-07-02T18:08:10.443884Z"
    }
   },
   "outputs": [
    {
     "name": "stdout",
     "output_type": "stream",
     "text": [
      "--- Statistiques initiales ---\n",
      "Nombre total de sections : 34049\n",
      "Longueur maximale (tokens) : 2292\n",
      "Longueur minimale (tokens) : 1\n",
      "Longueur moyenne (tokens) : 200\n"
     ]
    }
   ],
   "source": [
    "print(\"--- Statistiques initiales ---\")\n",
    "print(\"Nombre total de sections :\", len(df))\n",
    "max_text_token_length = df['text_token_length'].max()\n",
    "min_text_token_length = df['text_token_length'].min()\n",
    "mean_text_token_length = df['text_token_length'].mean()\n",
    "print(\"Longueur maximale (tokens) :\", int(max_text_token_length))\n",
    "print(\"Longueur minimale (tokens) :\", int(min_text_token_length))\n",
    "print(\"Longueur moyenne (tokens) :\", int(mean_text_token_length))"
   ]
  },
  {
   "cell_type": "markdown",
   "id": "c70e33e61faee709",
   "metadata": {},
   "source": [
    "On observe que la plupart des sections ont une longueur raisonnable, mais il y a aussi des sections très courtes (< 3 tokens). La question de savoir s'il faut les conservés ou non. Observons quelques exemples de sections très courtes."
   ]
  },
  {
   "cell_type": "code",
   "execution_count": 5,
   "id": "b3e9be4b34bf144c",
   "metadata": {
    "ExecuteTime": {
     "end_time": "2025-07-02T18:08:10.473036Z",
     "start_time": "2025-07-02T18:08:10.467038Z"
    }
   },
   "outputs": [
    {
     "name": "stdout",
     "output_type": "stream",
     "text": [
      "\n",
      "Exemples de sections très courtes :\n",
      "238. 'Documents et figures.' (tokens: 3)\n",
      "248. 'Pièces justificatives.' (tokens: 2)\n",
      "258. 'Vie de Gautier de Coincy.' (tokens: 5)\n",
      "350. 'Pièces justificatives.' (tokens: 2)\n",
      "659. 'Sa famille. – 1258-1280.' (tokens: 4)\n",
      "938. 'Analyse du Jouvencel par chapitres.' (tokens: 5)\n",
      "995. 'Vie de Robert IV.' (tokens: 4)\n",
      "1212. 'Réforme du chapitre de Picquigny.' (tokens: 5)\n",
      "1376. 'Des executores. – Leurs diverses désignations.' (tokens: 5)\n",
      "1717. 'Analyse de soixante-dix documents.' (tokens: 5)\n"
     ]
    }
   ],
   "source": [
    "examples = df[df['text_token_length'] < 6].drop_duplicates().head(10)\n",
    "print(\"\\nExemples de sections très courtes :\")\n",
    "for i, row in examples.iterrows():\n",
    "    print(f\"{i+1}. '{row[TEXT_COL]}' (tokens: {row['text_token_length']})\")"
   ]
  },
  {
   "cell_type": "markdown",
   "id": "39c84b2b9efc98a4",
   "metadata": {},
   "source": [
    "Certaines sections < 3 tokens pourraient être des titres, des en-têtes ou des notes orphelines. Ces sections risquent d'introduire du bruit plus tard dans le modèle de recherche sémantique. En revanche d'autres sections courtes (> 3 tokens) commence à contenir de l'information utile comme des entités nommées (personnes, dates, lieux, etc.) ou des concepts clés.\n",
    "Nous proposons donc de filtrer les sections trop courtes (< 4 tokens) et plus tard dans notre stratégie de chunking d'ajouter un préfixe avec le titre de la section pour donner du contexte aux chunks."
   ]
  },
  {
   "cell_type": "code",
   "execution_count": 6,
   "id": "c38c7249",
   "metadata": {
    "ExecuteTime": {
     "end_time": "2025-07-02T18:08:10.516691Z",
     "start_time": "2025-07-02T18:08:10.503914Z"
    }
   },
   "outputs": [
    {
     "name": "stdout",
     "output_type": "stream",
     "text": [
      "\n",
      "Sections conservées après filtre (>=4 tokens) : 33989\n"
     ]
    }
   ],
   "source": [
    "df = df[df['text_token_length'] >= 4].reset_index(drop=True)\n",
    "print(\"\\nSections conservées après filtre (>=4 tokens) :\", len(df))"
   ]
  },
  {
   "cell_type": "code",
   "execution_count": 7,
   "id": "85943729",
   "metadata": {
    "ExecuteTime": {
     "end_time": "2025-07-02T18:08:10.634640Z",
     "start_time": "2025-07-02T18:08:10.531586Z"
    }
   },
   "outputs": [
    {
     "data": {
      "image/png": "[encoded data removed]",
      "text/plain": [
       "<Figure size 1000x400 with 1 Axes>"
      ]
     },
     "metadata": {},
     "output_type": "display_data"
    }
   ],
   "source": [
    "## Histogramme de la longueur des textes\n",
    "plt.figure(figsize=(10, 4))\n",
    "df['text_token_length'].hist(bins=50)\n",
    "plt.title('Distribution des longueurs des sections (tokens)')\n",
    "plt.xlabel('Tokens')\n",
    "plt.ylabel('Nombre de sections')\n",
    "plt.grid(True, linestyle='--', alpha=0.6)\n",
    "plt.tight_layout()\n",
    "plt.show()"
   ]
  },
  {
   "cell_type": "markdown",
   "id": "93fd6744adc4ac29",
   "metadata": {},
   "source": [
    "L'autre problème c'est qu'on voit ici que certaines sections sont très longues (plus de 1000 tokens). Ces sections risquent de dépasser la limite d'entrée de certains modèles d'embedding  que nous souhaitons appliquer par la suite regardons de plus près."
   ]
  },
  {
   "cell_type": "code",
   "execution_count": 8,
   "id": "b1af309009be7b9d",
   "metadata": {
    "ExecuteTime": {
     "end_time": "2025-07-02T18:08:18.290528Z",
     "start_time": "2025-07-02T18:08:10.641554Z"
    }
   },
   "outputs": [
    {
     "name": "stdout",
     "output_type": "stream",
     "text": [
      "CamemBERT base max length: 128\n",
      "CamemBERT large max length: 514\n",
      "Multilingual base max length: 128\n"
     ]
    }
   ],
   "source": [
    "from sentence_transformers import SentenceTransformer\n",
    "\n",
    "camembert_base_max_length = SentenceTransformer('Lajavaness/sentence-camembert-base').max_seq_length\n",
    "camembert_large_max_length = SentenceTransformer('Lajavaness/sentence-camembert-large').max_seq_length\n",
    "multilingual_max_length = SentenceTransformer('sentence-transformers/distiluse-base-multilingual-cased-v1').max_seq_length\n",
    "\n",
    "\n",
    "print(f\"CamemBERT base max length: {camembert_base_max_length}\")\n",
    "print(f\"CamemBERT large max length: {camembert_large_max_length}\")\n",
    "print(f\"Multilingual base max length: {multilingual_max_length}\")"
   ]
  },
  {
   "cell_type": "markdown",
   "id": "c8496d016e73e409",
   "metadata": {},
   "source": [
    "Il faut donc appliquer un découpage (chunking) pour créer des sous-textes de taille fixe pour les sequences les plus longues."
   ]
  },
  {
   "cell_type": "markdown",
   "id": "5a3472cafb8494c0",
   "metadata": {},
   "source": [
    "## Chunking method\n",
    "\n",
    "Il existe de nombreuse manière de découper un texte en chunks (characters, sentences, paragraphs, etc.): Il n'y a pas de méthode universelle, mais il faut choisir la méthode la plus adaptée à son cas d'usage.\n",
    "\n",
    "Deux paramètres sont importants à prendre en compte :\n",
    "- `CHUNK_SIZE` : la taille maximale des chunks en tokens (ex: 512 tokens pour CamemBERT).\n",
    "- `CHUNK_OVERLAP` : le nombre de tokens qui se chevauchent entre les chunks (ex: 10% de la taille du chunk, soit 51 tokens pour un chunk de 512 tokens).\n",
    "\n",
    "Ici on utilise une stratégie de double chunking :\n",
    "\n",
    "- Le premier découpage est déjà effectué via le scraping par section (découpage sémantique) Cf.supra.\n",
    "- Le second est un découpage par tokens, car les modèles d'embedding ont une limite fixe d'entrée (ex: 514 tokens).\n",
    "- Chaque chunk est enrichi avec le titre de la section pour donner du contexte (ex: \"Introduction : le ...\")."
   ]
  },
  {
   "cell_type": "code",
   "execution_count": 9,
   "id": "cb6c5189",
   "metadata": {
    "ExecuteTime": {
     "end_time": "2025-07-02T18:08:18.587516Z",
     "start_time": "2025-07-02T18:08:18.314807Z"
    },
    "lines_to_next_cell": 1
   },
   "outputs": [],
   "source": [
    "tokenizer = AutoTokenizer.from_pretrained(\"Lajavaness/sentence-camembert-large\", use_fast=True)\n",
    "# we using RecursiveCharacterTextSplitter from langchain to split the text into chunks, this not chunking by characters but by tokens because we explicitly use \"from_huggingface_tokenizer\" method (Check doc: https://python.langchain.com/docs/how_to/split_by_token/#hugging-face-tokenizer).\n",
    "text_splitter = RecursiveCharacterTextSplitter.from_huggingface_tokenizer(\n",
    "    tokenizer,\n",
    "    chunk_size=CHUNK_SIZE,\n",
    "    chunk_overlap=CHUNK_OVERLAP,\n",
    "    add_start_index=True,\n",
    "    strip_whitespace=True,\n",
    ")"
   ]
  },
  {
   "cell_type": "code",
   "execution_count": 10,
   "id": "b98435e0",
   "metadata": {
    "ExecuteTime": {
     "end_time": "2025-07-02T18:08:18.601691Z",
     "start_time": "2025-07-02T18:08:18.596714Z"
    },
    "lines_to_next_cell": 1
   },
   "outputs": [],
   "source": [
    "#Fonctions de traitement :  nettoyer le texte, compter les tokens, et appliquer le découpage.\n",
    "\n",
    "def count_tokens(text: str) -> int:\n",
    "    \"\"\"Retourne le nombre de tokens avec special tokens inclus.\"\"\"\n",
    "    return len(tokenizer(text, add_special_tokens=True)['input_ids'])\n",
    "\n",
    "def clean_text(text: str) -> str:\n",
    "    \"\"\"Nettoie le texte : supprime les espaces redondants et normalise les caractères.\"\"\"\n",
    "    return unicodedata.normalize(\"NFKC\", \" \".join(text.strip().split()))\n",
    "\n",
    "def remove_special_tokens_ids(token_ids: list[int]) -> list[int]:\n",
    "    \"\"\"Supprime les tokens spéciaux d'une liste d'IDs.\"\"\"\n",
    "    special_ids = tokenizer.all_special_ids\n",
    "    return [tok for tok in token_ids if tok not in special_ids]\n",
    "\n",
    "def process_row_recursive(row: pd.Series) -> list[dict]:\n",
    "    \"\"\"\n",
    "    Applique le découpage tokenisé sur une ligne de DataFrame :\n",
    "    - Nettoie le texte et ajoute le titre en préfixe.\n",
    "    - Découpe en sous-textes de taille fixe (tokens spéciaux inclus).\n",
    "    - Enregistre le chunk SANS les tokens spéciaux (pour usage humain / affichage).\n",
    "    \"\"\"\n",
    "    text = clean_text(row[TEXT_COL])\n",
    "    title = f\"{clean_text(row['position_name'])} : \"\n",
    "    len_title = count_tokens(title)\n",
    "\n",
    "    chunks = text_splitter.split_text(text)\n",
    "    results = []\n",
    "\n",
    "    for i, chunk in enumerate(chunks):\n",
    "        chunk_token_ids = tokenizer(chunk, add_special_tokens=True)[\"input_ids\"]\n",
    "        total_tokens = len_title + len(chunk_token_ids)\n",
    "\n",
    "        # Tronque si trop long\n",
    "        if total_tokens > CHUNK_SIZE:\n",
    "            allowed = CHUNK_SIZE - len_title\n",
    "            chunk_token_ids = chunk_token_ids[:allowed]\n",
    "\n",
    "        # Nettoyage du chunk : on enlève les special tokens pour l’enregistrement\n",
    "        chunk_token_ids_clean = remove_special_tokens_ids(chunk_token_ids)\n",
    "        chunk_text = tokenizer.decode(chunk_token_ids_clean, skip_special_tokens=True)\n",
    "\n",
    "        # Texte complet avec titre + chunk nettoyé\n",
    "        full_chunk = f\"{title}{chunk_text}\".strip()\n",
    "\n",
    "        results.append({\n",
    "            \"unique_id\": row[\"unique_id\"],\n",
    "            \"chunk_id\": f\"{row['unique_id']}_chunk_{i}\",\n",
    "            \"file_id\": row.get(\"file_id\"),\n",
    "            \"author\": row.get(\"author\"),\n",
    "            \"position_name\": clean_text(row.get(\"position_name\")),\n",
    "            \"year\": row.get(\"year\"),\n",
    "            \"section\": row.get(\"section\"),\n",
    "            \"raw_chunk\": chunk_text,\n",
    "            \"full_chunk\": full_chunk,\n",
    "            \"full_chunk_characters_len\": len(full_chunk),\n",
    "            \"full_chunk_token_len\": count_tokens(full_chunk),  # avec tokens spéciaux inclus\n",
    "        })\n",
    "\n",
    "    return results\n"
   ]
  },
  {
   "cell_type": "code",
   "execution_count": 11,
   "id": "9a38011c",
   "metadata": {
    "ExecuteTime": {
     "end_time": "2025-07-02T18:09:13.676015Z",
     "start_time": "2025-07-02T18:08:18.610107Z"
    }
   },
   "outputs": [
    {
     "name": "stderr",
     "output_type": "stream",
     "text": [
      "100%|██████████| 33989/33989 [00:52<00:00, 643.25it/s] \n"
     ]
    }
   ],
   "source": [
    "## Application du chunking et sauvegarde\n",
    "# On applique le découpage à chaque ligne du corpus. Si un fichier a déjà été généré, on ne le refait pas.\n",
    "out_path = f\"../../data/raw/encpos_chunked_tok_{CHUNK_SIZE}_{CHUNK_OVERLAP}-test.csv\"\n",
    "if os.path.exists(out_path):\n",
    "    print(f\"⚠️ Fichier déjà généré : {out_path}. Supprimez-le pour forcer le recalcul.\")\n",
    "    df_chunks = pd.read_csv(out_path, sep=\"\\t\")\n",
    "else:\n",
    "    # traitement parallèle pour accélérer le chunking. -1 utilise tous les coeurs disponibles.\n",
    "    results = Parallel(n_jobs=-1)(\n",
    "        delayed(process_row_recursive)(row) for _, row in tqdm(df.iterrows(), total=len(df))\n",
    "    )\n",
    "    flat_chunks = [item for sublist in results for item in sublist]\n",
    "    # deduplication des chunks\n",
    "    df_chunks = pd.DataFrame(flat_chunks).drop_duplicates(subset=[\"full_chunk\", \"unique_id\"]).reset_index(drop=True)\n",
    "    os.makedirs(os.path.dirname(out_path), exist_ok=True)\n",
    "    df_chunks.to_csv(out_path, sep=\"\\t\", encoding=\"utf-8\", index=False)"
   ]
  },
  {
   "cell_type": "markdown",
   "id": "70c183097972df72",
   "metadata": {},
   "source": [
    "## Analyse post-chunking"
   ]
  },
  {
   "cell_type": "code",
   "execution_count": 12,
   "id": "4f271a0b",
   "metadata": {
    "ExecuteTime": {
     "end_time": "2025-07-02T18:09:13.698362Z",
     "start_time": "2025-07-02T18:09:13.694278Z"
    }
   },
   "outputs": [
    {
     "name": "stdout",
     "output_type": "stream",
     "text": [
      "Nombre total de chunks générés : 39377\n",
      "Longueur maximale (tokens) : 511\n",
      "Longueur minimale (tokens) : 14\n",
      "Longueur moyenne (tokens) : 265\n"
     ]
    }
   ],
   "source": [
    "## Statistiques des chunks\n",
    "print(\"Nombre total de chunks générés :\", len(df_chunks))\n",
    "max_chunk_token_length = df_chunks['full_chunk_token_len'].max()\n",
    "min_chunk_token_length = df_chunks['full_chunk_token_len'].min()\n",
    "mean_chunk_token_length = df_chunks['full_chunk_token_len'].mean()\n",
    "print(\"Longueur maximale (tokens) :\", int(max_chunk_token_length))\n",
    "print(\"Longueur minimale (tokens) :\", int(min_chunk_token_length))\n",
    "print(\"Longueur moyenne (tokens) :\", int(mean_chunk_token_length))"
   ]
  },
  {
   "cell_type": "code",
   "execution_count": 13,
   "id": "7f3cf44e",
   "metadata": {
    "ExecuteTime": {
     "end_time": "2025-07-02T18:09:13.784074Z",
     "start_time": "2025-07-02T18:09:13.711698Z"
    }
   },
   "outputs": [
    {
     "data": {
      "image/png": "[encoded data removed]",
      "text/plain": [
       "<Figure size 1000x400 with 1 Axes>"
      ]
     },
     "metadata": {},
     "output_type": "display_data"
    }
   ],
   "source": [
    "## Histogramme après découpe\n",
    "plt.figure(figsize=(10, 4))\n",
    "df_chunks['full_chunk_token_len'].hist()\n",
    "plt.title('Distribution des longueurs de chunks après découpe')\n",
    "plt.xlabel('Tokens par chunk')\n",
    "plt.ylabel('Nombre de chunks')\n",
    "plt.grid(True, linestyle='--', alpha=0.6)\n",
    "plt.tight_layout()\n",
    "plt.show()"
   ]
  },
  {
   "cell_type": "markdown",
   "id": "e00aeb92ffe0dcad",
   "metadata": {},
   "source": [
    "- Le volume de chunks (+ de 3000) est suffisant pour une indexation vectorielle\n",
    "- La longueur moyenne des chunks est raisonnable (environ 200 tokens) pour créer des embeddings signifiants\n",
    "- La longueur maximum (512 tokens) assure la compatibilité avec les modèles d'embedding.\n"
   ]
  },
  {
   "cell_type": "markdown",
   "id": "fe91c004cb6cc357",
   "metadata": {},
   "source": "➡️ Notebook suivant : [02-create_retrievers.ipynb](./02-create-retrievers.ipynb)"
  }
 ],
 "metadata": {
  "jupytext": {
   "cell_metadata_filter": "-all",
   "encoding": "# coding: utf-8",
   "executable": "/usr/bin/env python",
   "main_language": "python",
   "notebook_metadata_filter": "-all"
  },
  "kernelspec": {
   "display_name": "Python 3 (ipykernel)",
   "language": "python",
   "name": "python3"
  },
  "language_info": {
   "codemirror_mode": {
    "name": "ipython",
    "version": 3
   },
   "file_extension": ".py",
   "mimetype": "text/x-python",
   "name": "python",
   "nbconvert_exporter": "python",
   "pygments_lexer": "ipython3",
   "version": "3.10.18"
  }
 },
 "nbformat": 4,
 "nbformat_minor": 5
}
