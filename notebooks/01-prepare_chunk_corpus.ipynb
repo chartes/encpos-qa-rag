{
 "cells": [
  {
   "cell_type": "markdown",
   "id": "cd8aa6ddc3f16fc9",
   "metadata": {},
   "source": [
    "# 01 - Prepare & chunk corpus"
   ]
  },
  {
   "cell_type": "markdown",
   "id": "95098c4f20814e72",
   "metadata": {},
   "source": [
    "Notebook steps:\n",
    "- Load TSV file that contains the longform abstracts scrapped (\"positions de thèses\")\n",
    "- Data analysis and cleaning\n",
    "- Apply custom chunking strategy and save the calculated chunks to a new TSV file for later indexing\n",
    "\n",
    "ℹ️ All the parameters (models, paths, chunking, etc.) are externalized in [`config.yml`](../config.yml), to easily re-run the notebook with different settings."
   ]
  },
  {
   "cell_type": "code",
   "id": "e550c4a13d237286",
   "metadata": {
    "ExecuteTime": {
     "end_time": "2025-07-17T10:17:03.431088Z",
     "start_time": "2025-07-17T10:16:58.929097Z"
    }
   },
   "source": [
    "import os\n",
    "import unicodedata\n",
    "import pandas as pd\n",
    "import matplotlib.pyplot as plt\n",
    "from tqdm import tqdm\n",
    "from joblib import Parallel, delayed\n",
    "from transformers import AutoTokenizer\n",
    "from sentence_transformers import SentenceTransformer\n",
    "from langchain.text_splitter import RecursiveCharacterTextSplitter\n",
    "\n",
    "from lib.io_utils import (get_absolute_path,\n",
    "                            read_yaml)"
   ],
   "outputs": [],
   "execution_count": 1
  },
  {
   "cell_type": "markdown",
   "id": "9a6add4b690cd5bd",
   "metadata": {},
   "source": "## Configuration loading"
  },
  {
   "cell_type": "code",
   "id": "25980a1c",
   "metadata": {
    "ExecuteTime": {
     "end_time": "2025-07-17T10:17:03.442128Z",
     "start_time": "2025-07-17T10:17:03.436718Z"
    }
   },
   "source": [
    "config = read_yaml(\"../config.yml\")\n",
    "\n",
    "data_path = get_absolute_path(config['data']['source'])\n",
    "TEXT_COL = config['data']['text_column']"
   ],
   "outputs": [],
   "execution_count": 2
  },
  {
   "cell_type": "markdown",
   "id": "4d46c449a165d815",
   "metadata": {},
   "source": [
    "##  Data loading\n",
    "\n",
    "The dataset contains 3057 longform abstracts ([https://theses.chartes.psl.eu/](https://theses.chartes.psl.eu/)) from the PSL University, scraped from the [DoTS API](https://api.dots.psl.eu/). Each thesis abstract is divided into sections (e.g. introduction, chapters, conclusion, appendices, etc.) to allow for semantic chunking of the document.\n",
    "\n",
    "Data model\n",
    "\n",
    "---\n",
    "\n",
    "- `text` : the text of the document that will be vectorized indexed. Each text row corresponding to a signifiant section of the document (e.g. introduction, chapters, conclusion, appendices, etc.) and corresponding to a first \"semantic chunking\" of the document.\n",
    "\n",
    "and the metadata columns (important to retrieve and identify the document later):\n",
    "- `unique_id` : the unique identifier of the document (e.g. \"ENCPOS_2023_01_5\"; \"01\": first thesis of the collection year 2023, \"5\": section 5 of the thesis)\n",
    "- `file_id` : the identifier of the document (util for research in Web)\n",
    "- `author` : the author of the document (positions de thèses)\n",
    "- `section` : the section title of the document (e.g. introduction, chapters, conclusion, appendices, etc.)\n",
    "- `title` : the title of the document\n",
    "- `position_name` : the name of the position\n",
    "- `year` : the year of the document\n",
    "- `text_token_length` : the length of the text in tokens"
   ]
  },
  {
   "cell_type": "code",
   "id": "cc39eacd",
   "metadata": {
    "ExecuteTime": {
     "end_time": "2025-07-17T10:17:03.931628Z",
     "start_time": "2025-07-17T10:17:03.546495Z"
    }
   },
   "source": [
    "df = pd.read_csv(data_path, sep=\"\\t\", encoding=\"utf-8\")\n",
    "# First ensure the columns are in the right format: Check if the columns exist and convert them to the appropriate types, check non null values\n",
    "df['year'] = pd.to_numeric(df['year'], errors='coerce').fillna(0).astype(int)\n",
    "for col in ['file_id', 'unique_id', 'author', 'section', 'text', 'position_name']:\n",
    "    df[col] = df[col].astype(str)\n",
    "\n",
    "df.head()"
   ],
   "outputs": [
    {
     "data": {
      "text/plain": [
       "          unique_id         file_id  year                    author  \\\n",
       "0  ENCPOS_1849_01_1  ENCPOS_1849_01  1849  Léon de Bastard d'Estang   \n",
       "1  ENCPOS_1849_01_2  ENCPOS_1849_01  1849  Léon de Bastard d'Estang   \n",
       "2  ENCPOS_1849_01_3  ENCPOS_1849_01  1849  Léon de Bastard d'Estang   \n",
       "3  ENCPOS_1849_01_4  ENCPOS_1849_01  1849  Léon de Bastard d'Estang   \n",
       "4  ENCPOS_1849_01_5  ENCPOS_1849_01  1849  Léon de Bastard d'Estang   \n",
       "\n",
       "                                       position_name section  \\\n",
       "0  Recherches sur l’origine et la nature des insu...      I.   \n",
       "1  Recherches sur l’origine et la nature des insu...     II.   \n",
       "2  Recherches sur l’origine et la nature des insu...    III.   \n",
       "3  Recherches sur l’origine et la nature des insu...     IV.   \n",
       "4  Recherches sur l’origine et la nature des insu...      V.   \n",
       "\n",
       "                                                text  text_token_length  \n",
       "0  L’ insurrection de 1106 contre l’abbé Artaud a...                 21  \n",
       "1  La conspiration des bourgeois sous l’abbé Albé...                 20  \n",
       "2  L’ insurrection communale proprement dite, ver...                 13  \n",
       "3  L’origine de cette insurrection remonte à la r...                 18  \n",
       "4  La commune, qui en est la suite, n’a qu’une ex...                 25  "
      ],
      "text/html": [
       "<div>\n",
       "<style scoped>\n",
       "    .dataframe tbody tr th:only-of-type {\n",
       "        vertical-align: middle;\n",
       "    }\n",
       "\n",
       "    .dataframe tbody tr th {\n",
       "        vertical-align: top;\n",
       "    }\n",
       "\n",
       "    .dataframe thead th {\n",
       "        text-align: right;\n",
       "    }\n",
       "</style>\n",
       "<table border=\"1\" class=\"dataframe\">\n",
       "  <thead>\n",
       "    <tr style=\"text-align: right;\">\n",
       "      <th></th>\n",
       "      <th>unique_id</th>\n",
       "      <th>file_id</th>\n",
       "      <th>year</th>\n",
       "      <th>author</th>\n",
       "      <th>position_name</th>\n",
       "      <th>section</th>\n",
       "      <th>text</th>\n",
       "      <th>text_token_length</th>\n",
       "    </tr>\n",
       "  </thead>\n",
       "  <tbody>\n",
       "    <tr>\n",
       "      <th>0</th>\n",
       "      <td>ENCPOS_1849_01_1</td>\n",
       "      <td>ENCPOS_1849_01</td>\n",
       "      <td>1849</td>\n",
       "      <td>Léon de Bastard d'Estang</td>\n",
       "      <td>Recherches sur l’origine et la nature des insu...</td>\n",
       "      <td>I.</td>\n",
       "      <td>L’ insurrection de 1106 contre l’abbé Artaud a...</td>\n",
       "      <td>21</td>\n",
       "    </tr>\n",
       "    <tr>\n",
       "      <th>1</th>\n",
       "      <td>ENCPOS_1849_01_2</td>\n",
       "      <td>ENCPOS_1849_01</td>\n",
       "      <td>1849</td>\n",
       "      <td>Léon de Bastard d'Estang</td>\n",
       "      <td>Recherches sur l’origine et la nature des insu...</td>\n",
       "      <td>II.</td>\n",
       "      <td>La conspiration des bourgeois sous l’abbé Albé...</td>\n",
       "      <td>20</td>\n",
       "    </tr>\n",
       "    <tr>\n",
       "      <th>2</th>\n",
       "      <td>ENCPOS_1849_01_3</td>\n",
       "      <td>ENCPOS_1849_01</td>\n",
       "      <td>1849</td>\n",
       "      <td>Léon de Bastard d'Estang</td>\n",
       "      <td>Recherches sur l’origine et la nature des insu...</td>\n",
       "      <td>III.</td>\n",
       "      <td>L’ insurrection communale proprement dite, ver...</td>\n",
       "      <td>13</td>\n",
       "    </tr>\n",
       "    <tr>\n",
       "      <th>3</th>\n",
       "      <td>ENCPOS_1849_01_4</td>\n",
       "      <td>ENCPOS_1849_01</td>\n",
       "      <td>1849</td>\n",
       "      <td>Léon de Bastard d'Estang</td>\n",
       "      <td>Recherches sur l’origine et la nature des insu...</td>\n",
       "      <td>IV.</td>\n",
       "      <td>L’origine de cette insurrection remonte à la r...</td>\n",
       "      <td>18</td>\n",
       "    </tr>\n",
       "    <tr>\n",
       "      <th>4</th>\n",
       "      <td>ENCPOS_1849_01_5</td>\n",
       "      <td>ENCPOS_1849_01</td>\n",
       "      <td>1849</td>\n",
       "      <td>Léon de Bastard d'Estang</td>\n",
       "      <td>Recherches sur l’origine et la nature des insu...</td>\n",
       "      <td>V.</td>\n",
       "      <td>La commune, qui en est la suite, n’a qu’une ex...</td>\n",
       "      <td>25</td>\n",
       "    </tr>\n",
       "  </tbody>\n",
       "</table>\n",
       "</div>"
      ]
     },
     "execution_count": 3,
     "metadata": {},
     "output_type": "execute_result"
    }
   ],
   "execution_count": 3
  },
  {
   "cell_type": "markdown",
   "id": "5807d5325634c41",
   "metadata": {},
   "source": "## Minimal dataset analysis"
  },
  {
   "cell_type": "code",
   "id": "a90b4a3d",
   "metadata": {
    "ExecuteTime": {
     "end_time": "2025-07-17T10:17:03.967245Z",
     "start_time": "2025-07-17T10:17:03.964133Z"
    }
   },
   "source": [
    "print(\"Total number of sections:\", len(df))\n",
    "max_text_token_length = df['text_token_length'].max()\n",
    "min_text_token_length = df['text_token_length'].min()\n",
    "mean_text_token_length = df['text_token_length'].mean()\n",
    "print(\"Max token length:\", int(max_text_token_length))\n",
    "print(\"Min token length:\", int(min_text_token_length))\n",
    "print(\"Mean token length:\", int(mean_text_token_length))"
   ],
   "outputs": [
    {
     "name": "stdout",
     "output_type": "stream",
     "text": [
      "Total number of sections: 34049\n",
      "Max token length: 2292\n",
      "Min token length: 1\n",
      "Mean token length: 200\n"
     ]
    }
   ],
   "execution_count": 4
  },
  {
   "cell_type": "markdown",
   "id": "c70e33e61faee709",
   "metadata": {},
   "source": [
    "\n",
    "We observe that most sections have a reasonable length, but there are also very short sections (< 3 tokens). The question is whether to keep them or not. Let's look at some examples of very short sections."
   ]
  },
  {
   "cell_type": "code",
   "id": "b3e9be4b34bf144c",
   "metadata": {
    "ExecuteTime": {
     "end_time": "2025-07-17T10:17:04.012242Z",
     "start_time": "2025-07-17T10:17:04.004873Z"
    }
   },
   "source": [
    "examples = df[df['text_token_length'] < 6].drop_duplicates().head(10)\n",
    "print(\"\\nShort sections sample:\")\n",
    "for i, row in examples.iterrows():\n",
    "    print(f\"{i+1}. '{row[TEXT_COL]}' (tokens: {row['text_token_length']})\")"
   ],
   "outputs": [
    {
     "name": "stdout",
     "output_type": "stream",
     "text": [
      "\n",
      "Short sections sample:\n",
      "238. 'Documents et figures.' (tokens: 3)\n",
      "248. 'Pièces justificatives.' (tokens: 2)\n",
      "258. 'Vie de Gautier de Coincy.' (tokens: 5)\n",
      "350. 'Pièces justificatives.' (tokens: 2)\n",
      "659. 'Sa famille. – 1258-1280.' (tokens: 4)\n",
      "938. 'Analyse du Jouvencel par chapitres.' (tokens: 5)\n",
      "995. 'Vie de Robert IV.' (tokens: 4)\n",
      "1212. 'Réforme du chapitre de Picquigny.' (tokens: 5)\n",
      "1376. 'Des executores. – Leurs diverses désignations.' (tokens: 5)\n",
      "1717. 'Analyse de soixante-dix documents.' (tokens: 5)\n"
     ]
    }
   ],
   "execution_count": 5
  },
  {
   "cell_type": "markdown",
   "id": "39c84b2b9efc98a4",
   "metadata": {},
   "source": [
    "\n",
    "- The section < 4 tokens are likely to be noise and should be removed.\n",
    "- The section > 4 tokens are likely to be useful (like named entities or important concepts) and should be kept."
   ]
  },
  {
   "cell_type": "code",
   "id": "c38c7249",
   "metadata": {
    "ExecuteTime": {
     "end_time": "2025-07-17T10:17:04.059444Z",
     "start_time": "2025-07-17T10:17:04.045317Z"
    }
   },
   "source": [
    "df = df[df['text_token_length'] >= 4].reset_index(drop=True)\n",
    "print(\"\\nTotal sections after filtering short sections (>4 tokens):\", len(df))"
   ],
   "outputs": [
    {
     "name": "stdout",
     "output_type": "stream",
     "text": [
      "\n",
      "Total sections after filtering short sections (>4 tokens): 33989\n"
     ]
    }
   ],
   "execution_count": 6
  },
  {
   "cell_type": "code",
   "id": "85943729",
   "metadata": {
    "ExecuteTime": {
     "end_time": "2025-07-17T10:18:14.894654Z",
     "start_time": "2025-07-17T10:18:14.805011Z"
    }
   },
   "source": [
    "## Histogramme de la longueur des textes\n",
    "def plot_histogram(dataframe, column, title, xlabel, ylabel, bins=50):\n",
    "    plt.figure(figsize=(10, 4))\n",
    "    dataframe[column].hist(bins=bins)\n",
    "    plt.title(title)\n",
    "    plt.xlabel(xlabel)\n",
    "    plt.ylabel(ylabel)\n",
    "    plt.grid(True, linestyle='--', alpha=0.6)\n",
    "    plt.tight_layout()\n",
    "    plt.show()\n",
    "\n",
    "\n",
    "plot_histogram(\n",
    "    df,\n",
    "    'text_token_length',\n",
    "    'Token length distribution',\n",
    "    'Tokens',\n",
    "    'Sections',\n",
    "     bins=10\n",
    ")"
   ],
   "outputs": [
    {
     "data": {
      "text/plain": [
       "<Figure size 1000x400 with 1 Axes>"
      ],
      "image/png": "[encoded data removed]"
     },
     "metadata": {},
     "output_type": "display_data"
    }
   ],
   "execution_count": 17
  },
  {
   "cell_type": "markdown",
   "id": "93fd6744adc4ac29",
   "metadata": {},
   "source": [
    "\n",
    "Another issue with dataset is that some sections are very long (more than 1000 tokens).\n",
    "\n",
    "These sections may exceed the input limit of some embedding models we want to apply later.\n",
    "\n",
    "Let's take a closer look."
   ]
  },
  {
   "cell_type": "code",
   "id": "b1af309009be7b9d",
   "metadata": {
    "ExecuteTime": {
     "end_time": "2025-07-17T10:17:19.644853Z",
     "start_time": "2025-07-17T10:17:04.195662Z"
    }
   },
   "source": [
    "camembert_base_max_length = SentenceTransformer('Lajavaness/sentence-camembert-base').max_seq_length\n",
    "camembert_large_max_length = SentenceTransformer('Lajavaness/sentence-camembert-large').max_seq_length\n",
    "multilingual_max_length = SentenceTransformer('sentence-transformers/distiluse-base-multilingual-cased-v1').max_seq_length\n",
    "\n",
    "\n",
    "print(f\"CamemBERT base max length: {camembert_base_max_length}\")\n",
    "print(f\"CamemBERT large max length: {camembert_large_max_length}\")\n",
    "print(f\"Multilingual base max length: {multilingual_max_length}\")"
   ],
   "outputs": [
    {
     "name": "stdout",
     "output_type": "stream",
     "text": [
      "CamemBERT base max length: 128\n",
      "CamemBERT large max length: 514\n",
      "Multilingual base max length: 128\n"
     ]
    }
   ],
   "execution_count": 8
  },
  {
   "cell_type": "markdown",
   "id": "c8496d016e73e409",
   "metadata": {},
   "source": "To prevent this limitation, we will apply a custom chunking strategy that will split the text into smaller chunks while preserving the context of each section."
  },
  {
   "cell_type": "markdown",
   "id": "5a3472cafb8494c0",
   "metadata": {},
   "source": [
    "## Chunking method\n",
    "\n",
    "It exists many ways to split a text into chunks (characters, sentences, paragraphs, etc.): There is no universal method, but you have to choose the method that is most suitable for your use case.\n",
    "\n",
    "Two parameters are important to consider:\n",
    "- `CHUNK_SIZE`: the maximum size of the chunks in tokens (e.g. 512 tokens for CamemBERT) ;\n",
    "- `CHUNK_OVERLAP`: the number of tokens that overlap between chunks (e.g. 10% of the chunk size, i.e. 51 tokens for a chunk of 512 tokens).\n",
    "\n",
    "Ici on utilise une stratégie de double chunking :\n",
    "\n",
    "- Le premier découpage est déjà effectué via le scraping par section (découpage sémantique) Cf.supra.\n",
    "- Le second est un découpage par tokens, car les modèles d'embedding ont une limite fixe d'entrée (ex: 514 tokens).\n",
    "- Chaque chunk est enrichi avec le titre de la section pour donner du contexte (ex: \"Introduction : le ...\").\n",
    "\n",
    "> we using RecursiveCharacterTextSplitter from langchain to split the text into chunks, this not chunking by characters but by tokens because we explicitly use \"from_huggingface_tokenizer\" method (Check doc: https://python.langchain.com/docs/how_to/split_by_token/#hugging-face-tokenizer)."
   ]
  },
  {
   "metadata": {
    "ExecuteTime": {
     "end_time": "2025-07-17T10:17:19.679076Z",
     "start_time": "2025-07-17T10:17:19.676130Z"
    }
   },
   "cell_type": "code",
   "source": [
    "CHUNK_SIZE = config['chunking']['chunk_size']\n",
    "\n",
    "# Compute the chunk overlap as 10% of the chunk size. This allows to dynamically define the chunk overlap to avoid size errors.\n",
    "CHUNK_OVERLAP =  int(CHUNK_SIZE / 10)"
   ],
   "id": "2246de4f63bd2b33",
   "outputs": [],
   "execution_count": 9
  },
  {
   "cell_type": "code",
   "id": "cb6c5189",
   "metadata": {
    "lines_to_next_cell": 1,
    "ExecuteTime": {
     "end_time": "2025-07-17T10:17:20.192953Z",
     "start_time": "2025-07-17T10:17:19.696606Z"
    }
   },
   "source": [
    "tokenizer = AutoTokenizer.from_pretrained(\"Lajavaness/sentence-camembert-large\", use_fast=True)\n",
    "\n",
    "text_splitter = RecursiveCharacterTextSplitter.from_huggingface_tokenizer(\n",
    "    tokenizer,\n",
    "    chunk_size=CHUNK_SIZE,\n",
    "    chunk_overlap=CHUNK_OVERLAP,\n",
    "    add_start_index=True,\n",
    "    strip_whitespace=True,\n",
    ")"
   ],
   "outputs": [],
   "execution_count": 10
  },
  {
   "cell_type": "code",
   "id": "b98435e0",
   "metadata": {
    "lines_to_next_cell": 1,
    "ExecuteTime": {
     "end_time": "2025-07-17T10:17:20.202448Z",
     "start_time": "2025-07-17T10:17:20.196756Z"
    }
   },
   "source": [
    "def count_tokens(text: str) -> int:\n",
    "    \"\"\"Returns the number of tokens in the text, including special tokens.\n",
    "\n",
    "    Args:\n",
    "        text (str): The input text to tokenize.\n",
    "\n",
    "    Returns:\n",
    "        int: The number of tokens in the text.\n",
    "    \"\"\"\n",
    "    return len(tokenizer(text, add_special_tokens=True)['input_ids'])\n",
    "\n",
    "def clean_text(text: str) -> str:\n",
    "    \"\"\"Clean text by: removing extra spaces, normalizing unicode characters.\n",
    "\n",
    "    Args:\n",
    "        text (str): The input text to clean.\n",
    "\n",
    "    Returns:\n",
    "        str: The cleaned text.\n",
    "    \"\"\"\n",
    "    return unicodedata.normalize(\"NFKC\", \" \".join(text.strip().split()))\n",
    "\n",
    "def remove_special_tokens_ids(token_ids: list[int]) -> list[int]:\n",
    "    \"\"\"Delete special tokens from a list of token IDs.\n",
    "\n",
    "    Args:\n",
    "        token_ids (list[int]): List of token IDs to clean.\n",
    "\n",
    "    Returns:\n",
    "        list[int]: List of token IDs without special tokens.\n",
    "    \"\"\"\n",
    "    special_ids = tokenizer.all_special_ids\n",
    "    return [tok for tok in token_ids if tok not in special_ids]\n",
    "\n",
    "def process_row_recursive(row: pd.Series) -> list[dict]:\n",
    "    \"\"\"Apply the chunking at token level on a DataFrame row:\n",
    "    - Cleans the text and adds the title as a prefix.\n",
    "    - Splits the text into fixed-size chunks (special tokens included).\n",
    "    - Saves the chunk WITHOUT special tokens (for human use / display).\n",
    "\n",
    "    Args:\n",
    "        row (pd.Series): A row of the DataFrame containing the text and metadata.\n",
    "\n",
    "    Returns:\n",
    "        list[dict]: A list of dictionaries, each containing the chunk information.\n",
    "    \"\"\"\n",
    "    text = clean_text(row[TEXT_COL])\n",
    "    title = f\"{clean_text(row['position_name'])} : \"\n",
    "    len_title = count_tokens(title)\n",
    "\n",
    "    chunks = text_splitter.split_text(text)\n",
    "    results = []\n",
    "\n",
    "    for i, chunk in enumerate(chunks):\n",
    "        chunk_token_ids = tokenizer(chunk, add_special_tokens=True)[\"input_ids\"]\n",
    "        total_tokens = len_title + len(chunk_token_ids)\n",
    "\n",
    "        # Truncating the chunk if it exceeds the maximum allowed size\n",
    "        if total_tokens > CHUNK_SIZE:\n",
    "            allowed = CHUNK_SIZE - len_title\n",
    "            chunk_token_ids = chunk_token_ids[:allowed]\n",
    "\n",
    "\n",
    "        # Chunk clean: remove special tokens for saving\n",
    "        chunk_token_ids_clean = remove_special_tokens_ids(chunk_token_ids)\n",
    "        chunk_text = tokenizer.decode(chunk_token_ids_clean, skip_special_tokens=True)\n",
    "\n",
    "        # Texte complet avec titre + chunk nettoyé\n",
    "        full_chunk = f\"{title}{chunk_text}\".strip()\n",
    "\n",
    "        results.append({\n",
    "            \"unique_id\": row[\"unique_id\"],\n",
    "            \"chunk_id\": f\"{row['unique_id']}_chunk_{i}\",\n",
    "            \"file_id\": row.get(\"file_id\"),\n",
    "            \"author\": row.get(\"author\"),\n",
    "            \"position_name\": clean_text(row.get(\"position_name\")),\n",
    "            \"year\": row.get(\"year\"),\n",
    "            \"section\": row.get(\"section\"),\n",
    "            \"raw_chunk\": chunk_text,\n",
    "            \"full_chunk\": full_chunk,\n",
    "            \"full_chunk_characters_len\": len(full_chunk),\n",
    "            \"full_chunk_token_len\": count_tokens(full_chunk),  # avec tokens spéciaux inclus\n",
    "        })\n",
    "\n",
    "    return results\n"
   ],
   "outputs": [],
   "execution_count": 11
  },
  {
   "cell_type": "code",
   "id": "9a38011c",
   "metadata": {
    "ExecuteTime": {
     "end_time": "2025-07-17T10:17:21.239624Z",
     "start_time": "2025-07-17T10:17:20.212914Z"
    }
   },
   "source": [
    "# Apply chunking to the DataFrame and save the results.\n",
    "out_path = get_absolute_path(f\"data/raw/encpos_chunked_tok_{CHUNK_SIZE}_{CHUNK_OVERLAP}.csv\")\n",
    "if os.path.exists(out_path):\n",
    "    print(f\"⚠️ File already generated : {out_path}. Delete it to rebuild.\")\n",
    "    df_chunks = pd.read_csv(out_path, sep=\"\\t\")\n",
    "else:\n",
    "    # chunking accelerated by parallel processing\n",
    "    results = Parallel(n_jobs=-1)(\n",
    "        delayed(process_row_recursive)(row) for _, row in tqdm(df.iterrows(), total=len(df))\n",
    "    )\n",
    "    flat_chunks = [item for sublist in results for item in sublist]\n",
    "    # chunks dedupe (just in case)\n",
    "    df_chunks = pd.DataFrame(flat_chunks).drop_duplicates(subset=[\"full_chunk\", \"unique_id\"]).reset_index(drop=True)\n",
    "    os.makedirs(os.path.dirname(out_path), exist_ok=True)\n",
    "    df_chunks.to_csv(out_path, sep=\"\\t\", encoding=\"utf-8\", index=False)"
   ],
   "outputs": [
    {
     "name": "stdout",
     "output_type": "stream",
     "text": [
      "⚠️ File already generated : /Users/lucaterre/Documents/pro/Travail_courant/DEV/AI-ENC-Projects/on-github/encpos-qa-rag/data/raw/encpos_chunked_tok_512_51.csv. Delete it to rebuild.\n"
     ]
    }
   ],
   "execution_count": 12
  },
  {
   "cell_type": "markdown",
   "id": "70c183097972df72",
   "metadata": {},
   "source": "## Post-chunking analysis"
  },
  {
   "cell_type": "code",
   "id": "4f271a0b",
   "metadata": {
    "ExecuteTime": {
     "end_time": "2025-07-17T10:17:21.256613Z",
     "start_time": "2025-07-17T10:17:21.251412Z"
    }
   },
   "source": [
    "## Statistiques des chunks\n",
    "print(\"Total chunks generated:\", len(df_chunks))\n",
    "max_chunk_token_length = df_chunks['full_chunk_token_len'].max()\n",
    "min_chunk_token_length = df_chunks['full_chunk_token_len'].min()\n",
    "mean_chunk_token_length = df_chunks['full_chunk_token_len'].mean()\n",
    "print(\"Max token length:\", int(max_chunk_token_length))\n",
    "print(\"Min token length:\", int(min_chunk_token_length))\n",
    "print(\"Mean token length:\", int(mean_chunk_token_length))"
   ],
   "outputs": [
    {
     "name": "stdout",
     "output_type": "stream",
     "text": [
      "Total chunks generated: 39377\n",
      "Max token length: 511\n",
      "Min token length: 14\n",
      "Mean token length: 265\n"
     ]
    }
   ],
   "execution_count": 13
  },
  {
   "cell_type": "code",
   "id": "7f3cf44e",
   "metadata": {
    "ExecuteTime": {
     "end_time": "2025-07-17T10:18:06.609224Z",
     "start_time": "2025-07-17T10:18:06.500114Z"
    }
   },
   "source": [
    "## Histogramme après découpe\n",
    "plot_histogram(\n",
    "    df_chunks,\n",
    "    'full_chunk_token_len',\n",
    "    'Token length distribution (after chunking)',\n",
    "    'Tokens',\n",
    "    'Chunks',\n",
    "    bins=10\n",
    ")"
   ],
   "outputs": [
    {
     "data": {
      "text/plain": [
       "<Figure size 1000x400 with 1 Axes>"
      ],
      "image/png": "[encoded data removed]"
     },
     "metadata": {},
     "output_type": "display_data"
    }
   ],
   "execution_count": 16
  },
  {
   "cell_type": "markdown",
   "id": "e00aeb92ffe0dcad",
   "metadata": {},
   "source": [
    "- The chunking strategy is effective, with a good balance between chunk size and overlap.\n",
    "- The maximum chunk length (512) is within the limits of the most embedding models.\n",
    "- The total number of chunks is sufficient for vector indexing.\n"
   ]
  },
  {
   "cell_type": "markdown",
   "id": "fe91c004cb6cc357",
   "metadata": {},
   "source": "➡️ Notebook suivant : [02-build_vectordb.ipynb](./02-build_vectordb.ipynb)"
  }
 ],
 "metadata": {
  "jupytext": {
   "cell_metadata_filter": "-all",
   "encoding": "# coding: utf-8",
   "executable": "/usr/bin/env python",
   "main_language": "python",
   "notebook_metadata_filter": "-all"
  },
  "kernelspec": {
   "display_name": "Python 3 (ipykernel)",
   "language": "python",
   "name": "python3"
  },
  "language_info": {
   "codemirror_mode": {
    "name": "ipython",
    "version": 3
   },
   "file_extension": ".py",
   "mimetype": "text/x-python",
   "name": "python",
   "nbconvert_exporter": "python",
   "pygments_lexer": "ipython3",
   "version": "3.10.18"
  }
 },
 "nbformat": 4,
 "nbformat_minor": 5
}
