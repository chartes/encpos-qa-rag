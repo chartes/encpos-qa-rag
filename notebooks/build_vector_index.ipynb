{
 "cells": [
  {
   "metadata": {
    "ExecuteTime": {
     "end_time": "2025-06-27T15:50:52.545806Z",
     "start_time": "2025-06-27T15:50:51.374624Z"
    }
   },
   "cell_type": "code",
   "source": [
    "import pandas as pd\n",
    "from aiohttp.helpers import SEPARATORS\n",
    "from nltk import sent_tokenize, word_tokenize\n",
    "\n",
    "from utils.io_utils import (get_absolute_path,\n",
    "                            read_yaml)"
   ],
   "id": "d972bdee9eb47b30",
   "outputs": [],
   "execution_count": 1
  },
  {
   "metadata": {
    "ExecuteTime": {
     "end_time": "2025-06-27T15:50:52.555402Z",
     "start_time": "2025-06-27T15:50:52.549298Z"
    }
   },
   "cell_type": "code",
   "source": [
    "# prepare variables from configuration file\n",
    "\n",
    "config = read_yaml('../config.yml')\n",
    "# path to the data source\n",
    "data_path = get_absolute_path(config['data']['source'])\n",
    "\n",
    "# name to sentence-transformers embeddings model\n",
    "camembert_base_name = config['embedding_model']['camembert']['name']\n",
    "camembert_base_path = config['embedding_model']['camembert']['model_path']\n",
    "\n",
    "camembert_base_large_name = config['embedding_model']['camembert-large']['name']\n",
    "camembert_base_large_path = config['embedding_model']['camembert-large']['model_path']\n",
    "\n",
    "multilingual_base_name = config['embedding_model']['multilingual']['name']\n",
    "multilingual_base_path = config['embedding_model']['multilingual']['model_path']"
   ],
   "id": "adbfba3ca7bfcfd9",
   "outputs": [],
   "execution_count": 2
  },
  {
   "metadata": {},
   "cell_type": "markdown",
   "source": [
    "## Présentation du dataset\n",
    "\n",
    "Ce dataset comprend les 3057 thèses disponibles sur le site [https://theses.chartes.psl.eu/](https://theses.chartes.psl.eu/) via un scrapper qui utilise l'API DoTS.\n",
    "\n",
    "Modèle de données\n",
    "\n",
    "---\n",
    "\n",
    "- `text` : the text of the document that will be vectorized indexed. Each text row corresponding to a signifiant section of the document (e.g. introduction, chapters, conclusion, appendices, etc.) and corresponding to a first \"semantic chunking\" of the document.\n",
    "\n",
    "and the metadata columns (important to retrieve and identify the document later):\n",
    "- `unique_id` : the unique identifier of the document (e.g. \"ENCPOS_2023_01_5\"; \"01\": first thesis of the collection year 2023, \"5\": section 5 of the thesis)\n",
    "- `file_id` : the identifier of the document (util for research in Web)\n",
    "- `author` : the author of the document (positions de thèses)\n",
    "- `section` : the section title of the document (e.g. introduction, chapters, conclusion, appendices, etc.)\n",
    "- `title` : the title of the document\n",
    "- `position_name` : the name of the position\n",
    "- `year` : the year of the document\n",
    "- `text_token_length` : the length of the text in tokens"
   ],
   "id": "eeb1ecfed6f4cdf8"
  },
  {
   "metadata": {
    "ExecuteTime": {
     "end_time": "2025-06-27T15:50:55.021397Z",
     "start_time": "2025-06-27T15:50:54.609802Z"
    }
   },
   "cell_type": "code",
   "source": [
    "# first analyze the data source\n",
    "df = pd.read_csv(data_path, sep=\"\\t\", encoding=\"utf-8\")\n",
    "df.head()"
   ],
   "id": "a13d7958c4a8ca8d",
   "outputs": [
    {
     "data": {
      "text/plain": [
       "          unique_id         file_id  year                    author  \\\n",
       "0  ENCPOS_1849_01_1  ENCPOS_1849_01  1849  Léon de Bastard d'Estang   \n",
       "1  ENCPOS_1849_01_2  ENCPOS_1849_01  1849  Léon de Bastard d'Estang   \n",
       "2  ENCPOS_1849_01_3  ENCPOS_1849_01  1849  Léon de Bastard d'Estang   \n",
       "3  ENCPOS_1849_01_4  ENCPOS_1849_01  1849  Léon de Bastard d'Estang   \n",
       "4  ENCPOS_1849_01_5  ENCPOS_1849_01  1849  Léon de Bastard d'Estang   \n",
       "\n",
       "                                       position_name section  \\\n",
       "0  Recherches sur l’origine et la nature des insu...      I.   \n",
       "1  Recherches sur l’origine et la nature des insu...     II.   \n",
       "2  Recherches sur l’origine et la nature des insu...    III.   \n",
       "3  Recherches sur l’origine et la nature des insu...     IV.   \n",
       "4  Recherches sur l’origine et la nature des insu...      V.   \n",
       "\n",
       "                                                text  text_token_length  \n",
       "0  L’ insurrection de 1106 contre l’abbé Artaud a...                 21  \n",
       "1  La conspiration des bourgeois sous l’abbé Albé...                 20  \n",
       "2  L’ insurrection communale proprement dite, ver...                 13  \n",
       "3  L’origine de cette insurrection remonte à la r...                 18  \n",
       "4  La commune, qui en est la suite, n’a qu’une ex...                 25  "
      ],
      "text/html": [
       "<div>\n",
       "<style scoped>\n",
       "    .dataframe tbody tr th:only-of-type {\n",
       "        vertical-align: middle;\n",
       "    }\n",
       "\n",
       "    .dataframe tbody tr th {\n",
       "        vertical-align: top;\n",
       "    }\n",
       "\n",
       "    .dataframe thead th {\n",
       "        text-align: right;\n",
       "    }\n",
       "</style>\n",
       "<table border=\"1\" class=\"dataframe\">\n",
       "  <thead>\n",
       "    <tr style=\"text-align: right;\">\n",
       "      <th></th>\n",
       "      <th>unique_id</th>\n",
       "      <th>file_id</th>\n",
       "      <th>year</th>\n",
       "      <th>author</th>\n",
       "      <th>position_name</th>\n",
       "      <th>section</th>\n",
       "      <th>text</th>\n",
       "      <th>text_token_length</th>\n",
       "    </tr>\n",
       "  </thead>\n",
       "  <tbody>\n",
       "    <tr>\n",
       "      <th>0</th>\n",
       "      <td>ENCPOS_1849_01_1</td>\n",
       "      <td>ENCPOS_1849_01</td>\n",
       "      <td>1849</td>\n",
       "      <td>Léon de Bastard d'Estang</td>\n",
       "      <td>Recherches sur l’origine et la nature des insu...</td>\n",
       "      <td>I.</td>\n",
       "      <td>L’ insurrection de 1106 contre l’abbé Artaud a...</td>\n",
       "      <td>21</td>\n",
       "    </tr>\n",
       "    <tr>\n",
       "      <th>1</th>\n",
       "      <td>ENCPOS_1849_01_2</td>\n",
       "      <td>ENCPOS_1849_01</td>\n",
       "      <td>1849</td>\n",
       "      <td>Léon de Bastard d'Estang</td>\n",
       "      <td>Recherches sur l’origine et la nature des insu...</td>\n",
       "      <td>II.</td>\n",
       "      <td>La conspiration des bourgeois sous l’abbé Albé...</td>\n",
       "      <td>20</td>\n",
       "    </tr>\n",
       "    <tr>\n",
       "      <th>2</th>\n",
       "      <td>ENCPOS_1849_01_3</td>\n",
       "      <td>ENCPOS_1849_01</td>\n",
       "      <td>1849</td>\n",
       "      <td>Léon de Bastard d'Estang</td>\n",
       "      <td>Recherches sur l’origine et la nature des insu...</td>\n",
       "      <td>III.</td>\n",
       "      <td>L’ insurrection communale proprement dite, ver...</td>\n",
       "      <td>13</td>\n",
       "    </tr>\n",
       "    <tr>\n",
       "      <th>3</th>\n",
       "      <td>ENCPOS_1849_01_4</td>\n",
       "      <td>ENCPOS_1849_01</td>\n",
       "      <td>1849</td>\n",
       "      <td>Léon de Bastard d'Estang</td>\n",
       "      <td>Recherches sur l’origine et la nature des insu...</td>\n",
       "      <td>IV.</td>\n",
       "      <td>L’origine de cette insurrection remonte à la r...</td>\n",
       "      <td>18</td>\n",
       "    </tr>\n",
       "    <tr>\n",
       "      <th>4</th>\n",
       "      <td>ENCPOS_1849_01_5</td>\n",
       "      <td>ENCPOS_1849_01</td>\n",
       "      <td>1849</td>\n",
       "      <td>Léon de Bastard d'Estang</td>\n",
       "      <td>Recherches sur l’origine et la nature des insu...</td>\n",
       "      <td>V.</td>\n",
       "      <td>La commune, qui en est la suite, n’a qu’une ex...</td>\n",
       "      <td>25</td>\n",
       "    </tr>\n",
       "  </tbody>\n",
       "</table>\n",
       "</div>"
      ]
     },
     "execution_count": 3,
     "metadata": {},
     "output_type": "execute_result"
    }
   ],
   "execution_count": 3
  },
  {
   "metadata": {},
   "cell_type": "markdown",
   "source": [
    "## Retriever - Chunking method\n",
    "\n",
    "La partie Retriever permet de retrouver des sections (snippets) intéressantes dans les documents en fonction d'une requête formulé par l'utilisateur. Ces sections (\"chunks\") sont ensuite indexées dans une base vectorielles pour permettre une retrouver les documents les plus proches de la requête de l'utilisateur.\n",
    "\n",
    "Notre objectif consiste ici à répondre à la question : Comment on créer ces sections (\"chunks\") ? et quel taille devraient-elles faire ?\n",
    "\n",
    "C'est une question complexe et ouverte qui peut nécéssiter plusieurs itérations, il n'y a pas de réponse unique.\n",
    "\n",
    "Dans un premier temps nous allons analyser le dataset pour comprendre la longueur des textes et les sections qui le composent."
   ],
   "id": "4a30b031c692b7a5"
  },
  {
   "metadata": {
    "ExecuteTime": {
     "end_time": "2025-06-27T15:50:58.691662Z",
     "start_time": "2025-06-27T15:50:58.359052Z"
    }
   },
   "cell_type": "code",
   "source": [
    "# First ensure the columns are in the right format\n",
    "df['year'] = pd.to_numeric(df['year'], errors='coerce').fillna(0).astype(int)\n",
    "cols_to_str = ['file_id', 'unique_id', 'author', 'section', 'text', 'position_name']\n",
    "df[cols_to_str] = df[cols_to_str].astype(str)\n",
    "\n",
    "# check if columns are empty\n",
    "empty_columns = df.columns[df.isnull().any()].tolist()\n",
    "print(\n",
    "    f\"Les colonnes suivantes contiennent des valeurs manquantes : {empty_columns}\" if empty_columns else \"Aucune colonne n'a de valeurs manquantes.\"\n",
    ")\n",
    "\n",
    "# get max length of the text\n",
    "max_text_token_length = df['text_token_length'].max()\n",
    "min_text_token_length = df['text_token_length'].min()\n",
    "mean_text_token_length = df['text_token_length'].mean()\n",
    "\n",
    "print(\"Nombre de documents dans le dataset :\", len(df))\n",
    "print(\"Longueur maximale du texte en tokens :\", max_text_token_length)\n",
    "print(\"Longueur minimale du texte en tokens :\", min_text_token_length)\n",
    "print(\"Longueur moyenne du texte en tokens :\", int(mean_text_token_length))\n",
    "\n",
    "# get percentage of documents with text length < 100 tokens and < 200 tokens\n",
    "percentage_less_100 = (df['text_token_length'] < 100).mean() * 100\n",
    "percentage_less_200 = (df['text_token_length'] < 200).mean() * 100\n",
    "\n",
    "print(f\"Pourcentage de documents avec une longueur de texte < 100 tokens : {percentage_less_100:.2f}%\")\n",
    "print(f\"Pourcentage de documents avec une longueur de texte < 200 tokens : {percentage_less_200:.2f}%\")\n",
    "\n",
    "# get percentage of documents with text length 0 <= tokens <= 100\n",
    "percentage_0_to_100 = ((df['text_token_length'] >= 0) & (df['text_token_length'] <= 100)).mean() * 100\n",
    "print(f\"Pourcentage de documents avec une longueur de texte entre 0 et 100 tokens : {percentage_0_to_100:.2f}%\")\n",
    "\n",
    "# get percentage of documents with text length 100 <= tokens <= 200\n",
    "percentage_100_to_200 = ((df['text_token_length'] >= 100) & (df['text_token_length'] <= 200)).mean() * 100\n",
    "print(f\"Pourcentage de documents avec une longueur de texte entre 100 et 200 tokens : {percentage_100_to_200:.2f}%\")\n",
    "\n",
    "# get percentage of documents with text length 200 <= tokens <= 500\n",
    "percentage_200_to_500 = ((df['text_token_length'] >= 200) & (df['text_token_length'] <= 500)).mean() * 100\n",
    "print(f\"Pourcentage de documents avec une longueur de texte entre 200 et 500 tokens : {percentage_200_to_500:.2f}%\")\n",
    "\n",
    "# get percentage of documents with text length > 500 tokens\n",
    "percentage_greater_500 = (df['text_token_length'] > 500).mean() * 100\n",
    "print(f\"Pourcentage de documents avec une longueur de texte > 500 tokens : {percentage_greater_500:.2f}%\")\n",
    "\n",
    "# nombre de documents avec une longueur de texte < 2\n",
    "count_less_2 = (df['text_token_length'] < 2).sum()\n",
    "print(f\"Nombre de documents avec une longueur de texte < 2 tokens : {count_less_2}\")\n",
    "\n",
    "# create histogram of the text length (tokens and characters) side by side\n",
    "import matplotlib.pyplot as plt\n",
    "plt.figure(figsize=(12, 6))\n",
    "df['text_token_length'].hist()\n",
    "# add label on bars\n",
    "plt.xticks(range(0, max_text_token_length + 1, 100), rotation=45)\n",
    "plt.grid(axis='y', linestyle='--', alpha=0.7)\n",
    "plt.title('Distribution de la longueur du texte en tokens')\n",
    "plt.xlabel('Longueur du texte en tokens')\n",
    "plt.ylabel('Nombre de documents')\n",
    "plt.tight_layout()\n",
    "plt.show()\n",
    "\n",
    "# autre cellule : remove sentence with length < 2 tokens"
   ],
   "id": "e486a1fa7a58b7",
   "outputs": [
    {
     "name": "stdout",
     "output_type": "stream",
     "text": [
      "Aucune colonne n'a de valeurs manquantes.\n",
      "Nombre de documents dans le dataset : 34050\n",
      "Longueur maximale du texte en tokens : 2292\n",
      "Longueur minimale du texte en tokens : 1\n",
      "Longueur moyenne du texte en tokens : 200\n",
      "Pourcentage de documents avec une longueur de texte < 100 tokens : 33.84%\n",
      "Pourcentage de documents avec une longueur de texte < 200 tokens : 62.02%\n",
      "Pourcentage de documents avec une longueur de texte entre 0 et 100 tokens : 34.16%\n",
      "Pourcentage de documents avec une longueur de texte entre 100 et 200 tokens : 28.42%\n",
      "Pourcentage de documents avec une longueur de texte entre 200 et 500 tokens : 31.76%\n",
      "Pourcentage de documents avec une longueur de texte > 500 tokens : 6.21%\n",
      "Nombre de documents avec une longueur de texte < 2 tokens : 7\n"
     ]
    },
    {
     "data": {
      "text/plain": [
       "<Figure size 1200x600 with 1 Axes>"
      ],
      "image/png": "[encoded data removed]"
     },
     "metadata": {},
     "output_type": "display_data"
    }
   ],
   "execution_count": 4
  },
  {
   "metadata": {},
   "cell_type": "markdown",
   "source": [
    "Cette première analyse exploratoire du dataset nous permet de montrer :\n",
    "La majortié des documents ont une longueur compris entre O et 100 tokens (environ 34% des documents). Il serait pertinents de s'intéroger sur la valeur sémantique des documents avec peu de tokens (le risque étant qu'un document de 2 tokens créer du bruit lors de la recherche à cause d'embeddings peu representatifs).\n",
    "\n",
    "Regardons des exemples de textes avec moins de 2 à 4 tokens."
   ],
   "id": "17e311410c9b96c1"
  },
  {
   "metadata": {
    "ExecuteTime": {
     "end_time": "2025-06-27T15:51:05.683881Z",
     "start_time": "2025-06-27T15:51:05.673210Z"
    }
   },
   "cell_type": "code",
   "source": [
    "# get the sample documents with text length == 2 tokens\n",
    "total_documents_exactly_2_tokens = df[df['text_token_length'] == 2].shape[0]\n",
    "sample_less_equal_tokens = df[df['text_token_length'] == 2].sample(total_documents_exactly_2_tokens, random_state=42)\n",
    "\n",
    "print(f\"Nombre de documents avec une longueur de texte exactement 2 tokens : {total_documents_exactly_2_tokens}\")\n",
    "for i, row in sample_less_equal_tokens.iterrows():\n",
    "    print(f\"Document {i}: {row['text']}\")\n",
    "\n",
    "print(\"\\n\\n\")\n",
    "\n",
    "# get the sample documents with text length == 3 tokens\n",
    "total_documents_exactly_3_tokens = df[df['text_token_length'] == 3].shape[0]\n",
    "sample_less_equal_tokens = df[df['text_token_length'] == 3].sample(total_documents_exactly_3_tokens, random_state=42)\n",
    "print(f\"Nombre de documents avec une longueur de texte exactement 3 tokens : {total_documents_exactly_3_tokens}\")\n",
    "for i, row in sample_less_equal_tokens.iterrows():\n",
    "    print(f\"Document {i}: {row['text']}\")\n",
    "\n",
    "print(\"\\n\\n\")\n",
    "\n",
    "# get the sample documents with text length == 4 tokens\n",
    "total_documents_exactly_4_tokens = df[df['text_token_length'] == 4].shape[0]\n",
    "sample_less_equal_tokens = df[df['text_token_length'] == 4].sample(total_documents_exactly_4_tokens, random_state=42)\n",
    "print(f\"Nombre de documents avec une longueur de texte exactement 4 tokens : {total_documents_exactly_4_tokens}\")\n",
    "for i, row in sample_less_equal_tokens.iterrows():\n",
    "    print(f\"Document {i}: {row['text']}\")\n"
   ],
   "id": "7e8a40046a257c90",
   "outputs": [
    {
     "name": "stdout",
     "output_type": "stream",
     "text": [
      "Nombre de documents avec une longueur de texte exactement 2 tokens : 15\n",
      "Document 24150: Index. – Planches.\n",
      "Document 25945: Glossaire. – Illustrations.\n",
      "Document 247: Pièces justificatives.\n",
      "Document 27342: (1911-1949)\n",
      "Document 6707: Tableaux généalogiques.\n",
      "Document 21133: Tableaux statistiques.\n",
      "Document 4825: Sa fausseté.\n",
      "Document 349: Pièces justificatives.\n",
      "Document 31910: Lettres diverses.\n",
      "Document 6300: Sources ; bibliographie.\n",
      "Document 9169: Pièces justificatives.\n",
      "Document 25449: Chronologie. – Index.\n",
      "Document 26498: Index. ­ Glossaire.\n",
      "Document 5978: Origines. Attributions.\n",
      "Document 7603: 47 documents.\n",
      "\n",
      "\n",
      "\n",
      "Nombre de documents avec une longueur de texte exactement 3 tokens : 38\n",
      "Document 25143: Tableaux. – Cartes. – Photographies.\n",
      "Document 31839: Cartes. — Tableaux chronologiques.\n",
      "Document 3289: Subsistances et maximum.\n",
      "Document 6976: Analyse du poème.\n",
      "Document 24539: Tableaux. – Illustrations. – Index.\n",
      "Document 21674: Table topo-onomastique.\n",
      "Document 4047: Sceaux et Carte\n",
      "Document 23694: Cartes, photographies, graphiques.\n",
      "Document 19968: Portraits d’ambassadeurs.\n",
      "Document 8163: Election, charges, revenus.\n",
      "Document 11301: Granges. Cultures. Industries\n",
      "Document 5112: (Environ 500 articles).\n",
      "Document 10804: Choix de textes.\n",
      "Document 6650: Objet du travail.\n",
      "Document 12918: Évêques. Moines. Laïcs.\n",
      "Document 6358: Documents manuscrits. Imprimés.\n",
      "Document 24970: Variantes. – Analyse iconographique.\n",
      "Document 237: Documents et figures.\n",
      "Document 21614: Photographies de plans.\n",
      "Document 3852: Photographies, plans, croquis.\n",
      "Document 6572: Avant-propos. – Bibliographie.\n",
      "Document 1817: Description des églises.\n",
      "Document 32151: Tableaux, schémas, carte.\n",
      "Document 15842: Catalogue des manuscrits.\n",
      "Document 2077: Portrait dé Graville.\n",
      "Document 24237: Cartes. – Graphiques. – Index.\n",
      "Document 28933: Tableaux synthétiques. — Illustrations.\n",
      "Document 3092: Documents. – Relevés généraux.\n",
      "Document 25269: Généalogie. – Cartes. – Inventaire.\n",
      "Document 19944: Cartes et tableaux.\n",
      "Document 24937: Planches. – Tables. – Index.\n",
      "Document 6524: Sources et bibliographie.\n",
      "Document 18090: Plans, profils, photographies.\n",
      "Document 11493: Édition du texte.\n",
      "Document 15575: Table des formes.\n",
      "Document 4772: Sources et Bibliographie\n",
      "Document 7817: Traces très vagues.\n",
      "Document 23841: Illustrations et cartes.\n",
      "\n",
      "\n",
      "\n",
      "Nombre de documents avec une longueur de texte exactement 4 tokens : 37\n",
      "Document 7944: Fortune mobilière. Fortune immobilière.\n",
      "Document 6700: L’incendie de 1524.\n",
      "Document 2902: Sources manuscrites ; sources imprimées.\n",
      "Document 21542: Tableaux et figures statistiques.\n",
      "Document 33302: Filmographie de Georges Franju.\n",
      "Document 18089: Notices historiques et archéologiques.\n",
      "Document 4013: Les « deniers du Roi ».\n",
      "Document 18164: Plans, graphiques, pièces justificatives.\n",
      "Document 17308: Documents iconographiques anciens. Photographies.\n",
      "Document 7466: Guillaume III. Guillaume IV.\n",
      "Document 6145: Sources manuscrites et bibliographie.\n",
      "Document 6993: Documents manuscrits et imprimés.\n",
      "Document 6558: Documents manuscrits et imprimés.\n",
      "Document 27660: Catalogue chronologique des tapisseries.\n",
      "Document 6163: Sources manuscrites ; ouvrages consultés.\n",
      "Document 11057: Création tardive : après 1770.\n",
      "Document 658: Sa famille. – 1258-1280.\n",
      "Document 24754: Plans, photographies et gravures.\n",
      "Document 4002: Le plan. – Les sources.\n",
      "Document 6315: Tombeaux ; reliques ; mobilier ; etc.\n",
      "Document 995: Vie de Robert IV.\n",
      "Document 18201: Bulles. – Liste des prieurs.\n",
      "Document 12856: Institution nécessaire, mais insuffisante.\n",
      "Document 1938: Objet de ce travail.\n",
      "Document 33999: Répertoire alphabétique des suppliants.\n",
      "Document 32793: Index des lemmata . — Notes.\n",
      "Document 2382: Paris, Orléans, Corbeil, Étampes\n",
      "Document 29391: Tableaux. — Graphiques. — Illustrations. — Schémas.\n",
      "Document 14661: Index alphabétique des gloses.\n",
      "Document 24027: Cartes, graphiques, tableaux, organigramme.\n",
      "Document 6187: Sources manuscrites et imprimées.\n",
      "Document 12868: Les actes présumés écrits.\n",
      "Document 8036: Le sceau du chancelier\n",
      "Document 12377: Classification des thèmes principaux.\n",
      "Document 4993: Notes. Cartes. Plans. Estampes.\n",
      "Document 6907: Tous deux ont disparu.\n",
      "Document 20550: Citations latines marginales. – Glossaire.\n"
     ]
    }
   ],
   "execution_count": 5
  },
  {
   "metadata": {},
   "cell_type": "markdown",
   "source": "Cette analyse rapide nous montre que l'on peut éliminer les documents avec une longueur de texte inférieure à 4 tokens sans perdre une quantité importante d'information. En effet, ces documents sont souvent des titres ou des sections qui ne contiennent pas suffisamment d'informations pour être utiles dans le cadre de la recherche sémantique. en revanche, il est important de conserver les documents avec une longueur de texte supérieure à 4 tokens, car ils contiennent des informations plus riches et plus pertinentes comme des entités nommées qui peuvent être utiles de conserver.",
   "id": "33ef3869e8ef49f5"
  },
  {
   "metadata": {},
   "cell_type": "markdown",
   "source": [
    "Un autre aspect à prendre en compte est la longueur des tokens acceptés en entrée du modèle de transformation de phrases. En effet, les modèles de transformation de phrases ont une longueur maximale de tokens qu'ils peuvent traiter. Par exemple, le modèle CamemBERT base a une longueur maximale de 512 tokens, tandis que le modèle CamemBERT large a une longueur maximale de 1024 tokens. Il est donc important de s'assurer que les documents ne dépassent pas cette longueur maximale pour éviter des erreurs lors de l'indexation.\n",
    "\n",
    "Pour notre indexation nous proposons d'utiliser 3 modèles de transformation de phrases :\n",
    "- CamemBERT base\n",
    "- CamemBERT large\n",
    "- Multilingual base"
   ],
   "id": "7ee3388b383c5b03"
  },
  {
   "metadata": {},
   "cell_type": "code",
   "source": [
    "from sentence_transformers import SentenceTransformer\n",
    "\n",
    "camembert_base_max_length = SentenceTransformer('Lajavaness/sentence-camembert-base').max_seq_length\n",
    "camembert_large_max_length = SentenceTransformer('Lajavaness/sentence-camembert-large').max_seq_length\n",
    "multilingual_max_length = SentenceTransformer('sentence-transformers/distiluse-base-multilingual-cased-v1').max_seq_length\n",
    "\n",
    "\n",
    "print(f\"CamemBERT base max length: {camembert_base_max_length}\")\n",
    "print(f\"CamemBERT large max length: {camembert_large_max_length}\")\n",
    "print(f\"Multilingual base max length: {multilingual_max_length}\")"
   ],
   "id": "dcb3c67665fdeb7d",
   "outputs": [],
   "execution_count": null
  },
  {
   "metadata": {},
   "cell_type": "markdown",
   "source": "On peut voir ici que le nombre de tokens disponibles pour certaines sections de notre dataset excède la longueur maximale des modèles de transformation de phrases. Il est donc important de découper les sections en chunks plus petits pour éviter des erreurs lors de l'indexation.",
   "id": "3d92ec21ffa61169"
  },
  {
   "metadata": {},
   "cell_type": "markdown",
   "source": [
    "### Stratégie pour découper les positions de thèses en chunks\n",
    "\n",
    "nous proposons donc la méthode suivante pour découper les positions de thèses en chunks en partant de notre premier découpage sémantique des sections :\n",
    "\n",
    "1- Éliminer les sections avec une longueur de texte strictement inférieure à 4 tokens (comme vu précédemment)\n",
    "\n",
    "2- Si le texte est supérieur à la limite admise par le modèle on le découpe selon la limite de tokens du modèle cible (120)\n",
    "\n",
    "3 - Évite d’avoir un dernier chunk très court (comme un 120 + 1)\n",
    "\n",
    "4 - Retourne les chunks sous forme de liste (ou DataFrame si on l’applique à df)\n"
   ],
   "id": "ddd8aa6ce996cc63"
  },
  {
   "metadata": {
    "ExecuteTime": {
     "end_time": "2025-06-27T16:47:13.549628Z",
     "start_time": "2025-06-27T16:45:01.072545Z"
    }
   },
   "cell_type": "code",
   "source": [
    "import pandas as pd\n",
    "from tqdm.notebook import tqdm\n",
    "from langchain.text_splitter import RecursiveCharacterTextSplitter\n",
    "from joblib import Parallel, delayed\n",
    "from transformers import AutoTokenizer\n",
    "import unicodedata\n",
    "\n",
    "# Paramètres de découpe\n",
    "CHUNK_SIZE = 512\n",
    "CHUNK_OVERLAP = int(CHUNK_SIZE / 10)\n",
    "print(f\"Chunk size: {CHUNK_SIZE}, Chunk overlap: {CHUNK_OVERLAP}\")\n",
    "SEPARATORS = [\n",
    "    \"\\n\\n\",\n",
    "    \".\",\n",
    "    \"!\",\n",
    "    \"?\",\n",
    "    \";\",\n",
    "]\n",
    "\n",
    "# Tokenizer CamemBERT\n",
    "tokenizer = AutoTokenizer.from_pretrained(\n",
    "    \"Lajavaness/sentence-camembert-base\",\n",
    "    use_fast=True\n",
    ")\n",
    "\n",
    "text_splitter = RecursiveCharacterTextSplitter.from_huggingface_tokenizer(\n",
    "        AutoTokenizer.from_pretrained(\"Lajavaness/sentence-camembert-base\", use_fast=True),\n",
    "        chunk_size=CHUNK_SIZE,\n",
    "        chunk_overlap=CHUNK_OVERLAP,\n",
    "        add_start_index=True,\n",
    "        strip_whitespace=True,\n",
    "        #separators=SEPARATORS,\n",
    "    )\n",
    "\n",
    "\n",
    "def count_tokens(text: str) -> int:\n",
    "    return len(tokenizer(text, add_special_tokens=False)[\"input_ids\"])\n",
    "\n",
    "def clean_text(text):\n",
    "    text = \" \".join(text.strip().split())\n",
    "    return unicodedata.normalize(\"NFKC\", text)\n",
    "\n",
    "def process_row_recursive(row):\n",
    "    text = clean_text(row[\"text\"])\n",
    "    title = f\"{clean_text(row['position_name'])} : \"\n",
    "    len_title_token = count_tokens(title)\n",
    "\n",
    "    raw_chunks = text_splitter.split_text(text)\n",
    "    results = []\n",
    "\n",
    "    for i, chunk in enumerate(raw_chunks):\n",
    "        chunk_tokens = tokenizer(chunk, add_special_tokens=False)[\"input_ids\"]\n",
    "        total_tokens = len_title_token + len(chunk_tokens)\n",
    "\n",
    "        # Si le chunk + titre dépasse la limite, on coupe intelligemment le chunk\n",
    "        if total_tokens > CHUNK_SIZE:\n",
    "            allowed_tokens = CHUNK_SIZE - len_title_token\n",
    "            new_chunk_ids = chunk_tokens[:allowed_tokens]\n",
    "            chunk = tokenizer.decode(new_chunk_ids, skip_special_tokens=True)\n",
    "\n",
    "        full_chunk = f\"{title}{chunk}\".strip()\n",
    "        results.append({\n",
    "            \"unique_id\": row[\"unique_id\"],\n",
    "            \"chunk_id\": f\"{row['unique_id']}_chunk_{i}\",\n",
    "            \"file_id\": row.get(\"file_id\"),\n",
    "            \"author\": row.get(\"author\"),\n",
    "            \"position_name\": clean_text(row.get(\"position_name\")),\n",
    "            \"year\": row.get(\"year\"),\n",
    "            \"section\": row.get(\"section\"),\n",
    "            \"raw_chunk\": chunk,\n",
    "            \"full_chunk\": full_chunk,\n",
    "            \"full_chunk_characters_len\": len(full_chunk),\n",
    "            \"full_chunk_token_len\": count_tokens(full_chunk),\n",
    "        })\n",
    "\n",
    "    return results\n",
    "\n",
    "\n",
    "# Chargement des données\n",
    "df = pd.read_csv(data_path, sep=\"\\t\", encoding=\"utf-8\")\n",
    "df_temp = df[df['text_token_length'] >= 4].reset_index(drop=True)\n",
    "\n",
    "# Traitement parallèle\n",
    "results = Parallel(n_jobs=4)(\n",
    "    delayed(process_row_recursive)(row) for _, row in tqdm(df_temp.iterrows(), total=len(df_temp))\n",
    ")\n",
    "\n",
    "# Mise à plat\n",
    "flat_chunks = [item for sublist in results for item in sublist]\n",
    "df_chunks = pd.DataFrame(flat_chunks)\n",
    "\n",
    "# removed duplicates row based on 'text_chunk' and 'unique_id'\n",
    "df_chunks = df_chunks.drop_duplicates(subset=['full_chunk', 'unique_id']).reset_index(drop=True)\n",
    "\n",
    "# Export\n",
    "#df_chunks.to_csv(f\"../data/raw/encpos_chunked_tok_{CHUNK_SIZE}_{CHUNK_OVERLAP}.csv\", sep=\"\\t\", encoding=\"utf-8\", index=False)"
   ],
   "id": "e15ba85d9de7aa8f",
   "outputs": [
    {
     "name": "stdout",
     "output_type": "stream",
     "text": [
      "Chunk size: 512, Chunk overlap: 51\n"
     ]
    },
    {
     "data": {
      "text/plain": [
       "  0%|          | 0/33989 [00:00<?, ?it/s]"
      ],
      "application/vnd.jupyter.widget-view+json": {
       "version_major": 2,
       "version_minor": 0,
       "model_id": "826123fbf96b4ef1909473822cbeae70"
      }
     },
     "metadata": {},
     "output_type": "display_data"
    }
   ],
   "execution_count": 12
  },
  {
   "metadata": {},
   "cell_type": "markdown",
   "source": "",
   "id": "5ea2182142032c5d"
  },
  {
   "metadata": {
    "ExecuteTime": {
     "end_time": "2025-06-27T17:02:43.993279Z",
     "start_time": "2025-06-27T17:02:43.898099Z"
    }
   },
   "cell_type": "code",
   "source": [
    "import matplotlib.pyplot as plt\n",
    "\n",
    "max_text_token_length = df_chunks['full_chunk_token_len'].max()\n",
    "min_text_token_length = df_chunks['full_chunk_token_len'].min()\n",
    "mean_text_token_length = df_chunks['full_chunk_token_len'].mean()\n",
    "\n",
    "print(\"Nombre de documents dans le dataset :\", len(df_chunks))\n",
    "print(\"Longueur maximale du texte en tokens :\", max_text_token_length)\n",
    "print(\"Longueur minimale du texte en tokens :\", min_text_token_length)\n",
    "print(\"Longueur moyenne du texte en tokens :\", int(mean_text_token_length))\n",
    "\n",
    "df_chunks['full_chunk_token_len'].hist()\n",
    "plt.title('Distribution de la longueur des chunks en tokens')\n",
    "plt.xlabel('Longueur des chunks en tokens')\n",
    "plt.ylabel('Nombre de chunks')\n",
    "plt.grid(axis='y', linestyle='--', alpha=0.7)\n",
    "plt.show()"
   ],
   "id": "c899deb790d23af9",
   "outputs": [
    {
     "name": "stdout",
     "output_type": "stream",
     "text": [
      "Nombre de documents dans le dataset : 39416\n",
      "Longueur maximale du texte en tokens : 512\n",
      "Longueur minimale du texte en tokens : 11\n",
      "Longueur moyenne du texte en tokens : 264\n"
     ]
    },
    {
     "data": {
      "text/plain": [
       "<Figure size 640x480 with 1 Axes>"
      ],
      "image/png": "[encoded data removed]"
     },
     "metadata": {},
     "output_type": "display_data"
    }
   ],
   "execution_count": 19
  },
  {
   "metadata": {
    "ExecuteTime": {
     "end_time": "2025-06-27T16:57:56.462485Z",
     "start_time": "2025-06-27T16:57:56.383054Z"
    }
   },
   "cell_type": "code",
   "source": [
    "from nltk.tokenize import word_tokenize, sent_tokenize\n",
    "\n",
    "text = \"c. Disposition de la force publique. – Le roi convoque l’armée. A partir de la fin du règne de Clotaire I er , le service militaire tend à devenir une charge de propriété. Les officiers royaux des provinces, patrices, ducs, comtes, vicaires, centeniers, veillent à ce que le service militaire soit accompli par ceux qui les doivent ; les patrices, les ducs, les comtes, conduisent, quand il y a lieu, à l’armée les hommes du pays qu’ils administrent.\"\n",
    "\n",
    "toks = word_tokenize(text, language='french')\n",
    "print(toks)\n",
    "print(len(toks))"
   ],
   "id": "be531d59c3b6143b",
   "outputs": [
    {
     "name": "stdout",
     "output_type": "stream",
     "text": [
      "['c', '.', 'Disposition', 'de', 'la', 'force', 'publique', '.', '–', 'Le', 'roi', 'convoque', 'l', '’', 'armée', '.', 'A', 'partir', 'de', 'la', 'fin', 'du', 'règne', 'de', 'Clotaire', 'I', 'er', ',', 'le', 'service', 'militaire', 'tend', 'à', 'devenir', 'une', 'charge', 'de', 'propriété', '.', 'Les', 'officiers', 'royaux', 'des', 'provinces', ',', 'patrices', ',', 'ducs', ',', 'comtes', ',', 'vicaires', ',', 'centeniers', ',', 'veillent', 'à', 'ce', 'que', 'le', 'service', 'militaire', 'soit', 'accompli', 'par', 'ceux', 'qui', 'les', 'doivent', ';', 'les', 'patrices', ',', 'les', 'ducs', ',', 'les', 'comtes', ',', 'conduisent', ',', 'quand', 'il', 'y', 'a', 'lieu', ',', 'à', 'l', '’', 'armée', 'les', 'hommes', 'du', 'pays', 'qu', '’', 'ils', 'administrent', '.']\n",
      "100\n"
     ]
    }
   ],
   "execution_count": 13
  },
  {
   "metadata": {
    "ExecuteTime": {
     "end_time": "2025-06-27T16:59:40.125699Z",
     "start_time": "2025-06-27T16:59:40.110309Z"
    }
   },
   "cell_type": "code",
   "source": [
    "text = \"c. Disposition de la force publique. – Le roi convoque l’armée. A partir de la fin du règne de Clotaire I er , le service militaire tend à devenir une charge de propriété. Les officiers royaux des provinces, patrices, ducs, comtes, vicaires, centeniers, veillent à ce que le service militaire soit accompli par ceux qui les doivent ; les patrices, les ducs, les comtes, conduisent, quand il y a lieu, à l’armée les hommes du pays qu’ils administrent.\"\n",
    "\n",
    "# apply tokenizer\n",
    "encoding = tokenizer(text, add_special_tokens=False)\n",
    "print(encoding)\n",
    "print(len(encoding[\"input_ids\"]))\n",
    "# display tokens\n",
    "toks = tokenizer.convert_ids_to_tokens(encoding[\"input_ids\"])\n",
    "print(toks)"
   ],
   "id": "26e3a2a79a05eea9",
   "outputs": [
    {
     "name": "stdout",
     "output_type": "stream",
     "text": [
      "{'input_ids': [60, 9, 4194, 6937, 8, 13, 794, 1275, 9, 196, 54, 2012, 1113, 12034, 17, 12, 2677, 9, 114, 350, 8, 13, 259, 25, 5555, 8, 10476, 6956, 551, 21, 108, 21, 7, 16, 366, 2330, 4769, 15, 1090, 28, 688, 8, 1772, 9, 74, 12942, 21, 6287, 483, 20, 13314, 7, 387, 11789, 7, 18380, 10, 7, 11390, 10, 7, 21, 9553, 3206, 7, 2947, 35, 9722, 7, 2241, 113, 15, 44, 27, 16, 366, 2330, 191, 7109, 37, 320, 31, 19, 750, 167, 19, 387, 11789, 7, 19, 18380, 10, 7, 19, 11390, 10, 7, 21627, 7, 206, 51, 102, 33, 322, 7, 15, 17, 12, 2677, 19, 529, 25, 256, 46, 12, 240, 3874, 22364, 113, 9], 'attention_mask': [1, 1, 1, 1, 1, 1, 1, 1, 1, 1, 1, 1, 1, 1, 1, 1, 1, 1, 1, 1, 1, 1, 1, 1, 1, 1, 1, 1, 1, 1, 1, 1, 1, 1, 1, 1, 1, 1, 1, 1, 1, 1, 1, 1, 1, 1, 1, 1, 1, 1, 1, 1, 1, 1, 1, 1, 1, 1, 1, 1, 1, 1, 1, 1, 1, 1, 1, 1, 1, 1, 1, 1, 1, 1, 1, 1, 1, 1, 1, 1, 1, 1, 1, 1, 1, 1, 1, 1, 1, 1, 1, 1, 1, 1, 1, 1, 1, 1, 1, 1, 1, 1, 1, 1, 1, 1, 1, 1, 1, 1, 1, 1, 1, 1, 1, 1, 1, 1, 1, 1]}\n",
      "120\n",
      "['▁c', '.', '▁Dis', 'position', '▁de', '▁la', '▁force', '▁publique', '.', '▁–', '▁Le', '▁roi', '▁con', 'voque', '▁l', '’', 'armée', '.', '▁A', '▁partir', '▁de', '▁la', '▁fin', '▁du', '▁règne', '▁de', '▁Clo', 'taire', '▁I', '▁', 'er', '▁', ',', '▁le', '▁service', '▁militaire', '▁tend', '▁à', '▁devenir', '▁une', '▁charge', '▁de', '▁propriété', '.', '▁Les', '▁officiers', '▁', 'roy', 'aux', '▁des', '▁provinces', ',', '▁p', 'atrices', ',', '▁duc', 's', ',', '▁comte', 's', ',', '▁', 'vic', 'aires', ',', '▁cent', 'e', 'niers', ',', '▁veille', 'nt', '▁à', '▁ce', '▁que', '▁le', '▁service', '▁militaire', '▁soit', '▁accompli', '▁par', '▁ceux', '▁qui', '▁les', '▁doivent', '▁;', '▁les', '▁p', 'atrices', ',', '▁les', '▁duc', 's', ',', '▁les', '▁comte', 's', ',', '▁conduisent', ',', '▁quand', '▁il', '▁y', '▁a', '▁lieu', ',', '▁à', '▁l', '’', 'armée', '▁les', '▁hommes', '▁du', '▁pays', '▁qu', '’', 'ils', '▁ad', 'ministre', 'nt', '.']\n"
     ]
    }
   ],
   "execution_count": 17
  },
  {
   "metadata": {},
   "cell_type": "code",
   "source": "df_chunks",
   "id": "77a80a1613a2e289",
   "outputs": [],
   "execution_count": null
  },
  {
   "metadata": {},
   "cell_type": "markdown",
   "source": "### Création de l'index vectoriel",
   "id": "4fe917d0c508f1b3"
  },
  {
   "metadata": {
    "collapsed": true
   },
   "cell_type": "code",
   "source": [
    "from qdrant_client import QdrantClient\n",
    "from qdrant_client.models import Distance, VectorParams, PointStruct, models\n",
    "from sentence_transformers import SentenceTransformer\n",
    "import uuid\n",
    "\n",
    "# Load embedding model (français)\n",
    "model = SentenceTransformer(\"Lajavaness/sentence-camembert-base\")\n",
    "\n",
    "data = \"../data/documents_extracted_structured_prepared.csv\"\n",
    "\n",
    "# Charger le DataFrame à partir du fichier CSV\n",
    "df = pd.read_csv(data, sep=\"\\t\", encoding=\"utf-8\")\n",
    "# just 10 data for qtesting\n",
    "#df = df.head(10)\n",
    "\n",
    "required_cols = [\"text\", \"unique_id\", \"author\", \"section\", \"title\", \"text_length\"]\n",
    "missing = [col for col in required_cols if col not in df.columns]\n",
    "if missing:\n",
    "    raise ValueError(f\"Missing columns : {missing}\")\n",
    "\n",
    "# Générer les vecteurs + ids\n",
    "client = QdrantClient(path=\"../data/vectordb/qdrant.local.\"\n",
    "                           \"embedded\")  # base locale persistée\n",
    "\n",
    "client.create_collection(\n",
    "    collection_name=\"encpos\",\n",
    "    vectors_config=VectorParams(\n",
    "        size=model.get_sentence_embedding_dimension(),\n",
    "        distance=Distance.COSINE\n",
    "    )\n",
    ")\n",
    "\n",
    "vectors = model.encode(df[\"text\"].tolist(), batch_size=64, show_progress_bar=True)\n",
    "\n",
    "points = [\n",
    "    models.PointStruct(\n",
    "        id=str(uuid.uuid4()),\n",
    "        vector=vec.tolist(),\n",
    "        payload={\n",
    "            \"doc_id\": row[\"unique_id\"],\n",
    "            \"author\": row[\"author\"],\n",
    "            \"section\": row[\"section\"],\n",
    "            \"title\": row[\"title\"],\n",
    "            \"text\": row[\"text\"],\n",
    "            \"text_length\": row[\"text_length\"],\n",
    "        }\n",
    "    ) for vec, (_, row) in zip(vectors, df.iterrows())\n",
    "]\n",
    "\n",
    "\n",
    "# Indexer les points\n",
    "status = client.upsert(collection_name=\"encpos\", points=points, wait=True)\n",
    "\n",
    "print(status)\n",
    "\n",
    "print(\"✅ Indexation over with success.\")"
   ],
   "id": "initial_id",
   "outputs": [],
   "execution_count": null
  },
  {
   "metadata": {},
   "cell_type": "code",
   "source": [
    "collection_info = client.get_collection(\"encpos\")\n",
    "print(\"Nombre de points indexés :\", collection_info.points_count)"
   ],
   "id": "e24865dc4e23a8c5",
   "outputs": [],
   "execution_count": null
  },
  {
   "metadata": {},
   "cell_type": "code",
   "source": [
    "from llama_index.vector_stores.qdrant import QdrantVectorStore\n",
    "from qdrant_client import QdrantClient\n",
    "\n",
    "client = QdrantClient(path=\"../data/vectordb/qdrant.local.\"\n",
    "                           \"embedded\")  # base locale persistée\n",
    "\n",
    "vector_store = QdrantVectorStore(\n",
    "    collection_name=\"encpos\",\n",
    "    client=client,\n",
    "    vector_name=\"\"\n",
    ")"
   ],
   "id": "fa5a1769d5e56754",
   "outputs": [],
   "execution_count": null
  },
  {
   "metadata": {},
   "cell_type": "code",
   "source": [
    "from llama_index.core import Document, VectorStoreIndex, StorageContext\n",
    "from llama_index.embeddings.langchain import LangchainEmbedding\n",
    "from langchain_huggingface import HuggingFaceEmbeddings\n",
    "\n",
    "embedding = LangchainEmbedding(HuggingFaceEmbeddings(model_name=\"Lajavaness/sentence-camembert-base\"))\n",
    "\n",
    "index = VectorStoreIndex.from_vector_store(\n",
    "    vector_store=vector_store,\n",
    "    embed_model=embedding,\n",
    ")\n",
    "\n",
    "# find the nearest neighbors\n",
    "retriever = index.as_retriever(similarity_top_k=10)\n",
    "nodes = retriever.retrieve(\"Comment les représentations iconographiques du roman arthurien ?\")\n",
    "for i, node in enumerate(nodes, start=1):\n",
    "    print(i, \")\", node.metadata['author'], node.metadata['title'], node.score)\n",
    "    print()\n",
    "\n"
   ],
   "id": "a5d83fe77fcfa396",
   "outputs": [],
   "execution_count": null
  },
  {
   "metadata": {},
   "cell_type": "code",
   "source": [
    "# Récupère tous les points de Qdrant\n",
    "points = client.scroll(\n",
    "    collection_name=\"encpos\",\n",
    "    scroll_filter=None,\n",
    "    with_vectors=True,\n",
    "    with_payload=True,\n",
    "    limit=10000\n",
    ")[0]\n",
    "\n",
    "docs_processed = []\n",
    "embeddings_vectors = []\n",
    "\n",
    "for point in points:\n",
    "    vector = point.vector\n",
    "    metadata = point.payload\n",
    "    text = metadata.get(\"text\", \"\")  # ou \"content\", selon ton schéma\n",
    "    doc = Document(text=text, metadata=metadata)\n",
    "    docs_processed.append(doc)\n",
    "    embeddings_vectors.append(vector)"
   ],
   "id": "9c36cb1d6994936d",
   "outputs": [],
   "execution_count": null
  },
  {
   "metadata": {},
   "cell_type": "code",
   "source": [
    "query = \"Comment les représentations iconographiques du roman arthurien ?\"\n",
    "query_vector = embedding.get_text_embedding(query)"
   ],
   "id": "a9a265c92c69c6d6",
   "outputs": [],
   "execution_count": null
  },
  {
   "metadata": {},
   "cell_type": "code",
   "source": [
    "import pacmap\n",
    "import numpy as np\n",
    "import umap.umap_ as umap\n",
    "\n",
    "\n",
    "\n",
    "# Liste des vecteurs : documents + requête\n",
    "embeddings_2d = np.array(embeddings_vectors + [query_vector])\n",
    "embedding_projector = umap.UMAP(n_components=2, random_state=1)\n",
    "documents_projected = embedding_projector.fit_transform(embeddings_2d)"
   ],
   "id": "fd8faa2262420fb2",
   "outputs": [],
   "execution_count": null
  },
  {
   "metadata": {},
   "cell_type": "code",
   "source": [
    "import pandas as pd\n",
    "import plotly.express as px\n",
    "import matplotlib.pyplot as plt\n",
    "\n",
    "df = pd.DataFrame.from_dict(\n",
    "    [\n",
    "        {\n",
    "            \"x\": documents_projected[i, 0],\n",
    "            \"y\": documents_projected[i, 1],\n",
    "            \"source\": f\"{docs_processed[i].metadata.get('author')}\",\n",
    "            \"extract\": docs_processed[i].metadata.get('title') + \" : \" + docs_processed[i].metadata.get('text')[:100] + \"...\",  # Limite d'extrait à 100 caractères\n",
    "            \"symbol\": \"circle\",\n",
    "            \"size_col\": 4,\n",
    "        }\n",
    "        for i in range(len(docs_processed))\n",
    "    ]\n",
    "    + [\n",
    "        {\n",
    "            \"x\": documents_projected[-1, 0],\n",
    "            \"y\": documents_projected[-1, 1],\n",
    "            \"source\": \"User query\",\n",
    "            \"extract\": query,\n",
    "            \"size_col\": 100,\n",
    "            \"symbol\": \"star\",\n",
    "        }\n",
    "    ]\n",
    ")\n",
    "\n",
    "fig = px.scatter(\n",
    "    df,\n",
    "    x=\"x\",\n",
    "    y=\"y\",\n",
    "    color=\"source\",\n",
    "    hover_data=[\"extract\"],\n",
    "    size=\"size_col\",\n",
    "    symbol=\"symbol\",\n",
    "    color_discrete_map={\"User query\": \"black\"},\n",
    "    width=1000,\n",
    "    height=700,\n",
    ")\n",
    "fig.update_traces(\n",
    "    marker=dict(opacity=1, line=dict(width=0, color=\"DarkSlateGrey\")),\n",
    "    selector=dict(mode=\"markers\"),\n",
    ")\n",
    "fig.update_layout(\n",
    "    legend_title_text=\"<b>Chunk source</b>\",\n",
    "    title=\"<b>2D Projection of Positions de thèses embeddings via UMAP</b>\",\n",
    "    plot_bgcolor=\"white\",   # Arrière-plan du graphe\n",
    ")\n",
    "fig.show()\n"
   ],
   "id": "4f030feaf353c181",
   "outputs": [],
   "execution_count": null
  },
  {
   "metadata": {},
   "cell_type": "code",
   "source": "",
   "id": "61e18030c8fe3479",
   "outputs": [],
   "execution_count": null
  },
  {
   "metadata": {},
   "cell_type": "code",
   "source": "",
   "id": "57a9519ae49f8821",
   "outputs": [],
   "execution_count": null
  }
 ],
 "metadata": {
  "kernelspec": {
   "display_name": "Python 3",
   "language": "python",
   "name": "python3"
  },
  "language_info": {
   "codemirror_mode": {
    "name": "ipython",
    "version": 2
   },
   "file_extension": ".py",
   "mimetype": "text/x-python",
   "name": "python",
   "nbconvert_exporter": "python",
   "pygments_lexer": "ipython2",
   "version": "2.7.6"
  }
 },
 "nbformat": 4,
 "nbformat_minor": 5
}
