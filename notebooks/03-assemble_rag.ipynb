{
 "cells": [
  {
   "metadata": {},
   "cell_type": "markdown",
   "source": "# 03 - Assemble the RAG Pipeline",
   "id": "c2083200c2b97a09"
  },
  {
   "metadata": {},
   "cell_type": "markdown",
   "source": [
    "Notebook steps:\n",
    "\n",
    "   - Load the vector database retriever and test it\n",
    "   - Initialize the reader with a prompt template and a LLM\n",
    "   - Some retrievers optimizations: hybrid search and reranking\n",
    "   - Create a RAG pipeline that combines the retriever and the reader\n"
   ],
   "id": "b73e4012abdaee4d"
  },
  {
   "metadata": {
    "collapsed": true,
    "ExecuteTime": {
     "end_time": "2025-07-17T09:33:02.536220Z",
     "start_time": "2025-07-17T09:33:02.530411Z"
    }
   },
   "cell_type": "code",
   "source": [
    "import os\n",
    "import time\n",
    "import asyncio\n",
    "import logging\n",
    "import re\n",
    "from typing import List, Tuple\n",
    "from collections import defaultdict\n",
    "\n",
    "import pandas as pd\n",
    "import language_tool_python\n",
    "\n",
    "import lmstudio as lms\n",
    "from nltk.tokenize import sent_tokenize\n",
    "from langchain_openai import ChatOpenAI\n",
    "from langchain_core.documents import Document\n",
    "\n",
    "from IPython.display import display, Markdown\n",
    "from jinja2 import Template\n",
    "\n",
    "from lib.vector_store import VectorDB\n",
    "from lib.io_utils import get_absolute_path"
   ],
   "id": "initial_id",
   "outputs": [],
   "execution_count": 3
  },
  {
   "metadata": {},
   "cell_type": "markdown",
   "source": [
    "## Retriever\n",
    "\n",
    "In the previous notebook, we created the vector database that works in the RAG as a boosted search engine that brings up the most relevant documents in relation to a user query.\n",
    "\n",
    "We call it the retriever in the RAG.\n",
    "\n",
    "We init the retriever, to understand how it works, we can look at the notebook `notebooks/scripts/02-build_vectordb.ipynb` which allows us to create a vectordb from a dataframe.\n"
   ],
   "id": "b7f8fc588d678d91"
  },
  {
   "metadata": {
    "ExecuteTime": {
     "end_time": "2025-07-17T09:33:34.156434Z",
     "start_time": "2025-07-17T09:33:28.821146Z"
    }
   },
   "cell_type": "code",
   "source": [
    "# init variables for retriever just for example (check available in config.yml for more details)\n",
    "backend = \"lancedb\"\n",
    "embedding_model_name = \"Lajavaness/sentence-camembert-large\"\n",
    "db_store_path = get_absolute_path(\"data/retrievers/vectordb/camembert-large_lancedb\")\n",
    "\n",
    "db = VectorDB(\n",
    "    backend=backend,\n",
    "    embedding_model=embedding_model_name,\n",
    "    path=db_store_path\n",
    ")"
   ],
   "id": "e19b60a9c082be3d",
   "outputs": [
    {
     "name": "stdout",
     "output_type": "stream",
     "text": [
      "📦 LanceDB intialization on: /Users/lucaterre/Documents/pro/Travail_courant/DEV/AI-ENC-Projects/on-github/encpos-qa-rag/data/retrievers/vectordb/camembert-large_lancedb\n",
      "ℹ️ LanceDB table founded.\n"
     ]
    }
   ],
   "execution_count": 6
  },
  {
   "metadata": {},
   "cell_type": "markdown",
   "source": "Let's try the retriever with a query.",
   "id": "8f3fb0177507a0a4"
  },
  {
   "metadata": {
    "ExecuteTime": {
     "end_time": "2025-07-17T09:33:44.754063Z",
     "start_time": "2025-07-17T09:33:44.747221Z"
    }
   },
   "cell_type": "code",
   "source": [
    "def group_by_thesis(results_with_score: list[tuple[Document, float]]) -> dict[str, list[tuple[Document, float]]]:\n",
    "    \"\"\"Group the results by thesis file_id.\n",
    "\n",
    "    Args:\n",
    "        results_with_score (list[tuple[Document, float]]): List of tuples containing Document and score.\n",
    "\n",
    "    Returns:\n",
    "        dict[str, list[tuple[Document, float]]]: Dictionary with file_id as keys and list of (Document, score) tuples as values.\n",
    "    \"\"\"\n",
    "    grouped = defaultdict(list)\n",
    "    for doc, score in results_with_score:\n",
    "        file_id = doc.metadata.get(\"file_id\", \"unknown\")\n",
    "        grouped[file_id].append((doc, score))\n",
    "    return grouped\n",
    "\n",
    "def readeable_output_display(grouped_results: dict[str, list[tuple[Document, float]]]) -> None:\n",
    "    \"\"\" Display the grouped results in a readable format.\n",
    "\n",
    "    Args:\n",
    "        grouped_results (dict[str, list[tuple[Document, float]]]): Dictionary with file_id as keys and list of (Document, score) tuples as values.\n",
    "    Returns:\n",
    "        None: This function prints the results directly.\n",
    "    \"\"\"\n",
    "    for file_id, docs in grouped_results.items():\n",
    "        # Sort documents by score\n",
    "        docs = sorted(docs, key=lambda tup: tup[1], reverse=True)\n",
    "\n",
    "        titre = docs[0][0].metadata.get(\"position_name\", \"Sans titre\")\n",
    "        auteur = docs[0][0].metadata.get(\"author\", \"Inconnu\")\n",
    "        date = docs[0][0].metadata.get(\"year\", \"Inconnu\")\n",
    "\n",
    "        print(f\"\\n📄 {auteur}, {titre}, promotion {date}\")\n",
    "        print(f\"🧩 Chunks founded : {len(docs)}\\n\")\n",
    "\n",
    "        for i, (doc, score) in enumerate(docs):\n",
    "            extrait = doc.metadata.get(\"raw_chunk\", doc.page_content).strip().replace(\"\\n\", \" \")\n",
    "            section = doc.metadata.get(\"section\", \"Inconnu\")\n",
    "            print(f\"  ▪️ Extract {i + 1} from section '{section}' (score={score:.4f}) : […]{extrait}[…]\")\n",
    "        print(\"-\" * 80)\n",
    "\n",
    "def mini_retriever_playground(k: int=10)-> None:\n",
    "    \"\"\"Mini retriever playground to test the retriever with user input.\n",
    "\n",
    "    Args:\n",
    "        k (int): Number of results to return. Defaults to 10.\n",
    "\n",
    "    Returns:\n",
    "        None: This function runs an interactive loop to query the retriever.\n",
    "    \"\"\"\n",
    "    query = input(\"Query: \")\n",
    "\n",
    "    results = db.query(query, k=k)\n",
    "    grouped_results = group_by_thesis(results)\n",
    "    print(f\"User query: {query}\\n\")\n",
    "    readeable_output_display(grouped_results)\n",
    "    return query, results\n"
   ],
   "id": "c983fec81664f1ca",
   "outputs": [],
   "execution_count": 8
  },
  {
   "metadata": {
    "ExecuteTime": {
     "end_time": "2025-07-17T09:34:00.263281Z",
     "start_time": "2025-07-17T09:33:45.900793Z"
    }
   },
   "cell_type": "code",
   "source": [
    "%%time\n",
    "query, results = mini_retriever_playground(k=10)"
   ],
   "id": "34817579018b0809",
   "outputs": [
    {
     "name": "stdout",
     "output_type": "stream",
     "text": [
      "User query: Quels sont les thèmes iconographiques au Moyen-Âge ?\n",
      "\n",
      "\n",
      "📄 Emmanuelle Giry, Léon Bloy et le Moyen Âge l’imaginaire catholique renouvelé ?, promotion 2011\n",
      "🧩 Chunks founded : 1\n",
      "\n",
      "  ▪️ Extract 1 from section 'Annexes' (score=0.5563) : […]Iconographie. — Index des personnages médiévaux cités dans l’œuvre de Bloy. — Tableau synoptique des principaux historiens lus par Bloy. — Index général.[…]\n",
      "--------------------------------------------------------------------------------\n",
      "\n",
      "📄 Jacques Yvon, L’illustration des romans arthuriens du xiiie au xve siècle, promotion 1948\n",
      "🧩 Chunks founded : 1\n",
      "\n",
      "  ▪️ Extract 1 from section 'Chapitre III L’iconographie.' (score=0.5548) : […]L’iconographie profane a été peu étudiée. Elle a fait des emprunts à l’iconographie religieuse qui sont visibles dans l’illustration des romans de chevalerie. Certains thèmes religieux ont été traités par les enlumineurs de romans, comme l’Annonciation, la Crucifixion. Les illustrations peuvent apporter des renseignements précieux sur l’iconographie profane : le roi, la guerre, le chevalier et sa vie, etc... Une liste de sujets par ordre alphabétique, dans laquelle est comprise l’iconographie des principaux héros des romans avec leurs armes, indique les thèmes les plus fréquemment rencontrés et la manière dont ils ont été traités pendant trois siècles.[…]\n",
      "--------------------------------------------------------------------------------\n",
      "\n",
      "📄 Nathalie Rollet, L’iconographie du Lancelot en prose à la fin du Moyen Âge (v. 1340-v. 1500), promotion 1998\n",
      "🧩 Chunks founded : 5\n",
      "\n",
      "  ▪️ Extract 1 from section 'Chapitre V L’iconographie du Lancelot propre' (score=0.5534) : […]Sept manuscrits contiennent une partie ou la totalité de la branche centrale du Lancelot en prose illustrée. La répartition des miniatures à travers les manuscrits fait apparaître des cycles picturaux d’une centaine d’images et d’autres de plus de cent cinquante illustrations. Certains manuscrits présentent un schéma d’illustration très équilibré, tandis que les autres contiennent des séquences dépourvues d’illustration. L’iconographie se caractérise par une grande diversité, car plus de la moitié des scènes ne sont illustrées que dans un seul manuscrit. Cependant, le relevé des épisodes illustrés par quatre manuscrits au moins et l’étude de certains d’entre eux permettent de mettre en évidence l’existence d’une certaine tradition d’illustration. Plusieurs motifs peuvent être analysés en détail autour de deux grands thèmes, à savoir le monde de la chevalerie (adoubement, combat, épreuves, emprisonnement), et celui du merveilleux (songes, phénomènes surnaturels, lieux extraordinaires ou symboliques). L’iconographie du Lancelot propre est marquée par une forte concentration de scènes de combat qui, à la longue, crée une certaine monotonie liée à la répétition de motifs très proches. Cette caractéristique résulte de deux phénomènes, la richesse du texte en épisodes guerriers et la volonté de plaire au lecteur, commanditaire ou acquéreur potentiel. En revanche, l’illustration néglige un des éléments fondamentaux de la légende arthurienne, le Graal. Cette absence ne peut être imputée uniquement à la difficulté de sa représentation. Il faut y voir plutôt une volonté de mettre l’accent sur le caractère chevaleresque et profane du texte au détriment de l’aspect religieux.[…]\n",
      "  ▪️ Extract 2 from section 'Chapitre VI L’iconographie de la Queste del saint Graal' (score=0.5525) : […]Sept manuscrits contiennent le texte de la Queste del Saint Graal. avec un cycle d’images comptant de trois à quarante-trois miniatures et un total de cent quarante images. L’amplification progressive du cycle d’images est nette entre le milieu du XIV’ siècle et la fin du XV’ siècle. En ce qui concerne l’iconographie elle-même, plusieurs remarques peuvent être faites. D’une part, la christianisation de la légende du Graal, définitive pour le texte depuis le début du xiii e siècle, se manifeste aussi dans l’iconographie, qui mêle mythe et religion chrétienne. Chevaliers et religieux semblent être côte à côte les héros de cette quête du Graal, même si ce sont les premiers qui ont le rôle le plus important. D’autre part, l’orientation profane de l’iconographie prolonge finalement celle du Lancelot propre. Cependant, l’illustration est en léger décalage avec le texte lui-même qui, contrairement à la branche précédente, insiste moins sur les aventures guerrières des chevaliers que sur l’aspect religieux, voire mystique, de leur quête. L’illustration révèle, dans un cas particulier, une optique différente, beaucoup plus religieuse et ecclésiastique, liée à la personnalité du commanditaire supposé, l’abbé Gilles le Muisit (Ars., ms. 5218).[…]\n",
      "  ▪️ Extract 3 from section 'Conclusion' (score=0.5509) : […]L’analyse détaillée et comparative de l’illustration du Lancelot en prose permet de dresser une typologie des différents schémas iconographiques, en mettant l’accent sur la diversité mais aussi sur les constantes et la tradition. L’originalité de chaque manuscrit résulte d’une combinaison unique de plusieurs éléments, à la fois matériels (mise en pages et densité de l’illustration) et iconographiques. La lecture du texte est dans certains cas facilitée par la position même de l’image, qui structure le texte et en souligne les principales articulations. L’illustration est dominée par trois grands thèmes iconographiques : les aventures chevaleresques et les scènes de cour forment le corpus largement dominant ; les épisodes merveilleux constituent un deuxième ensemble, suivis des miniatures traitant de l’aspect religieux de la légende, autour du Graal et des thèmes bibliques, d’une part, et de la représentation de religieux, d’autre part. A ce sujet, il existe une disproportion flagrante entre la forte représentation des faits d’armes et la rareté de celle du Graal. L’importance accordée à l’aspect purement profane du texte montre que la sélection iconographique est aussi liée aux conditions de la réception du manuscrit, en particulier dans le cas des princes. Les manuscrits présentent en effet une iconographie à la fois didactique et idéologique qui reflète les aspirations chevaleresques de la noblesse de la lin du Moyen Age.[…]\n",
      "  ▪️ Extract 4 from section 'Chapitre II L’iconographie de l’Estoire del saint Graal' (score=0.5419) : […]Quatre manuscrits contiennent la première branche du Lancelot en prose avec un cycle iconographique comptant de quatre à trente-trois miniatures. Les soixante-neuf illustrations sont réparties de façon inégale, faisant apparaître deux familles de manuscrits, les uns se distinguant par un nombre très réduit d’images, les autres par un nombre assez élevé. L’ Estoire del Saint Graal est une branche très importante du cycle, puisque c’est elle qui introduit la légende et fait le lien entre la tradition biblique et apocryphe, d’une part, et le monde arthurien, de l’autre. Une quinzaine de scènes évoquent la religion, et l’iconographie est aussi marquée par un nombre important de phénomènes surnaturels. Le Graal n’apparaît que dans trois miniatures au total. Une analyse des cycles iconographiques de l’ Estoire del Saint Graal montre enfin qu’un certain nombre de miniatures annoncent des épisodes du Lancelot propre ou de la Queste del Saint Graal, constituant par là une sorte de typologie.[…]\n",
      "  ▪️ Extract 5 from section 'Chapitre III Le texte et sa traduction picturale' (score=0.5405) : […]Méthodes d’illustration. – La plus grande partie des cycles picturaux est formée de miniatures de taille modeste ne traitant que d’un sujet ponctuel et délimité, dites « monoscéniques ». Cette forme d’illustration a pour but de mettre en image un passage sélectionné du texte en insistant sur une seule action. A côté de ces images, il existe cependant quelques grandes compositions sur les pages d’ouverture des manuscrits et des branches, quelques miniatures occupant les deux colonnes de texte, quelques miniatures « biscéniques » et quelques autres qui opèrent une sorte de synthèse entre différents moments consécutifs du texte, proposant ainsi une « lecture » anticipée de ce qui va arriver peu après. Les choix iconographiques. – Certains éléments de 1 image sont librement choisis par l’artiste en raison des silences du texte, qui ne donne pas toujours tous les détails de la scène, en particulier pour la description des paysages, des décors, des vêtements. L’absence ou la transformation de certains éléments pourtant importants dans le texte peuvent être liées à des problèmes techniques de représentation et non à des choix intentionnels : c’est le cas, par exemple, pour la Table Ronde. Le concepteur du programme iconographique n’agit pas seulement en fonction de ses propres critères ni de ses préférences. Plusieurs facteurs viennent influencer ses choix. Il se doit en premier lieu, on l’a dit, de respecter les goûts du commanditaire ou de l’acquéreur éventuel de son manuscrit. Les manuscrits produits entre 1340 et 1500 s’inscrivent par ailleurs dans une tradition assez bien établie, puisque l’apparition d’une illustration des textes arthuriens remonte à la première moitié du xiii e siècle. La sélection du concepteur dépend donc également d’une tradition iconographique et de modèles picturaux. La présence d’un certain nombre de scènes bibliques s’explique par la christianisation progressive de la légende tandis que d’autres scènes se rattachent totalement à la légende elle-même. Il s’est en effet créé, depuis le XIII’ siècle, un « réservoir » d’images témoignant d’une connaissance approfondie du texte. Les conventions iconographiques. – L’analyse de l’illustration du ms. 3479-3480 de la bibliothèque de l’Arsenal, en particulier la représentation du roi et les scènes de combats, prouve l’existence de conventions iconographique[…]\n",
      "--------------------------------------------------------------------------------\n",
      "\n",
      "📄 Amandine Gaudron, Le singe médiéval, histoire d'un animal ambigu : savoirs, symboles et représentations, promotion 2014\n",
      "🧩 Chunks founded : 1\n",
      "\n",
      "  ▪️ Extract 1 from section 'Sources' (score=0.5481) : […]L'étude se construit autour des sources écrites et figurées. Les éditions de textes existantes permettent de construire un corpus assez complet autour de l'animal : une quarantaine de documents de différentes natures (littéraire, scientifique, religieuse, didactique, réglementaire, comptable) sont ainsi convoqués pour définir la manière dont le Moyen ge perçoit le singe. Quant aux images, elles aussi issues de supports variés (orfèvrerie, sculpture sur pierre et sur bois, manuscrits enluminés, gravures, peintures, tapisseries), elles viennent corroborer ou illustrer les informations tirées des sources écrites et autorisent une approche iconographique du sujet.[…]\n",
      "--------------------------------------------------------------------------------\n",
      "\n",
      "📄 Emanuele Arioli, Ségurant ou le Chevalier au Dragon : roman arthurien inédit (xiiie-xve siècle), promotion 2013\n",
      "🧩 Chunks founded : 1\n",
      "\n",
      "  ▪️ Extract 1 from section 'Quatrième partie Le langage des images : lectures de Ségurant' (score=0.5398) : […]La quatrième partie a comme objet d’étude les enluminures des manuscrits de Ségurant, surtout celles du manuscrit 5229, qui n’ont jamais été étudiées ni identifiées. L’analyse suit trois approches majeures : elle approfondit d’abord la technique et le style des enluminures, ensuite l’iconographie, et enfin la relation entre texte et images. Cette partie commence par une analyse de l’ornementation du premier feuillet du manuscrit 5229, à rinceaux d’or filiformes à feuilles de vigne, qui montre encore un fort ancrage dans l’art du xiv e siècle. Le manuscrit présente soixante-sept illustrations à la plume et au lavis, à partir d’encre noire et parfois jaune et rouge. Le manuscrit est à placer sous l’influence de l’art parisien de la grisaille du xiv e siècle : le style pourrait être rapproché du courant stylistique qui découle du maître de la Bible de Jean de Sy et surtout des grisailles du maître de la Mort (ou pseudo-Remiet) exécutées à la toute fin du xiv e siècle. La décoration du manuscrit dépasse difficilement les vingt premières années du xv e siècle : elle a été probablement exécutée par un artiste de l’le-de-France ou de la Bourgogne, proche du maître de la Mort ou du moins tributaire de l’art parisien de la fin du xiv e siècle. L’étude iconographique applique l’approche sérielle élaborée par Jérôme Baschet et s’articule selon trois axes sériels : des « séries internes », qui forment des réseaux à l’intérieur du manuscrit 5229 ; des « séries externes », reliant le manuscrit 5229 aux autres manuscrits enluminés des Prophéties de Merlin ; des « hyperthèmes » (« réseaux associant plusieurs thèmes ou motifs »), qui visent à déceler l’iconographie chrétienne présente en filigrane. La variété des choix iconographiques des manuscrits est due principalement à des stratégies différentes dans la traduction du langage verbal au langage figuratif. Les enlumineurs se sont attachés à des parties différentes du texte pour illustrer le même épisode. Ainsi, en comparant le texte aux images, on peut observer que le manuscrit 5229 tend à représenter le sujet de la formule initiale d’entrelacement, le manuscrit BNF, fr. 350 le début de l[…]\n",
      "--------------------------------------------------------------------------------\n",
      "\n",
      "📄 Michel Pastoureau, Le bestiaire héraldique au Moyen Âge, promotion 1972\n",
      "🧩 Chunks founded : 1\n",
      "\n",
      "  ▪️ Extract 1 from section 'Chapitre II Comparaison entre les sources sigillaires et les sources armoriales' (score=0.5397) : […]Les sceaux présentent sur les armoriaux l’avantage de recenser des armoiries complètes et authentiques, et de pouvoir être datés avec une relative précision. Mais les armoriaux ont la très grande supériorité d’indiquer les émaux, sans lesquels il n’y a pas d’armoiries véritables.[…]\n",
      "--------------------------------------------------------------------------------\n",
      "CPU times: user 314 ms, sys: 1.06 s, total: 1.37 s\n",
      "Wall time: 14.4 s\n"
     ]
    }
   ],
   "execution_count": 9
  },
  {
   "metadata": {},
   "cell_type": "markdown",
   "source": [
    "## Reader\n",
    "\n",
    "The reader is the RAG component that takes the results from the retriever and transforms them (interpolation) into a pre-structured prompt, which is then passed to an LLM that generates a structured or unstructured response.\n",
    "\n",
    "The parameters to consider for the reader are:\n",
    "- The LLM model that will be used to generate the response;\n",
    "- The prompt that will be used to generate the response;\n",
    "\n",
    "To initialize the Reader, we use LangChain's `ChatOpenAI` interface, which allows us to use OpenAI's LLM models (or models compatible with the OpenAI API specification, such as Mistral, Llama, etc.).\n",
    "The LLM is served by LM Studio, which is a server compatible with the OpenAI API and allows you to easily use local LLM models (there are other solutions such as Ollama or Vllm, for example).\n",
    "\n",
    "To initialize the LLM, you must specify (see the documentation https://python.langchain.com/docs/integrations/chat/openai/):\n",
    "- The maximum number of tokens to be generated by the LLM (`max_tokens`);\n",
    "- The OpenAI API URL (which is actually the LM Studio server URL) (`openai_api_base`);\n",
    "- The response will be streamed (`streaming=True`) to display the response as it is generated.\n",
    "- max_retries: the number of generation attempts in case of error (for example, if the LLM does not respond within a reasonable time) (`max_retries`).\n",
    "- timeout: the maximum waiting time for a response from the LLM (`timeout`).\n",
    "\n",
    "Inference parameters (set directly in lmstudio):\n",
    "\n",
    "- The temperature of the LLM (for the creativity of the response). A temperature of 0.0 will make the LLM very deterministic, while a temperature of 1.0 will make it more creative and random (`temperature`);\n",
    "- The top_p parameter (which is not used here, but can be useful to control the diversity of the generated response) (`top_p`);\n"
   ],
   "id": "bbdaf4f417592440"
  },
  {
   "metadata": {
    "ExecuteTime": {
     "end_time": "2025-07-17T09:05:36.079406Z",
     "start_time": "2025-07-17T09:05:36.051361Z"
    }
   },
   "cell_type": "code",
   "source": [
    "llm_name = \"mistral-nemo-instruct-2407\"\n",
    "\n",
    "llm_only = lms.list_loaded_models(\"llm\")\n",
    "if len(llm_only) > 0:\n",
    "    print(\"The following models were loaded:\")\n",
    "    for model in llm_only:\n",
    "        print(f\"- {model}\")\n",
    "    llm = ChatOpenAI(\n",
    "    model_name=\"mistral-nemo-instruct-2407\",\n",
    "    openai_api_base=\"http://localhost:1234/v1\",\n",
    "    openai_api_key=\"lm-studio\",\n",
    "    streaming=True,\n",
    "    max_tokens=4096,\n",
    ")\n",
    "else:\n",
    "    print(\"No LLM models loaded in LM Studio. Try to load a new instance.\")\n",
    "    client = lms.get_default_client()\n",
    "    client.llm.unload(llm_name)\n",
    "    model = client.llm.load_new_instance(llm_name)\n",
    "    llm = ChatOpenAI(\n",
    "    model_name=\"mistral-nemo-instruct-2407\",\n",
    "    openai_api_base=\"http://localhost:1234/v1\",\n",
    "    openai_api_key=\"lm-studio\",\n",
    "    streaming=True,\n",
    "    max_tokens=4096,\n",
    ")\n"
   ],
   "id": "486499165c6529bc",
   "outputs": [
    {
     "name": "stdout",
     "output_type": "stream",
     "text": [
      "The following models were loaded:\n",
      "- LLM(identifier='mistral-nemo-instruct-2407')\n"
     ]
    }
   ],
   "execution_count": 22
  },
  {
   "metadata": {},
   "cell_type": "markdown",
   "source": "### Reader - the prompt",
   "id": "7875d0ff778194d5"
  },
  {
   "metadata": {
    "ExecuteTime": {
     "end_time": "2025-07-17T09:34:11.535851Z",
     "start_time": "2025-07-17T09:34:11.522695Z"
    }
   },
   "cell_type": "code",
   "source": [
    "def get_token_count(text: str) -> int:\n",
    "    \"\"\"Get the number of tokens in a text using the LLM tokenizer.\n",
    "    Args:\n",
    "        text (str): The text to tokenize.\n",
    "    Returns:\n",
    "        int: The number of tokens in the text.\n",
    "    \"\"\"\n",
    "    model = lms.llm(\n",
    "    )\n",
    "    return len(model.tokenize(text))\n",
    "\n",
    "def truncate_by_sentence(text: str, max_tokens: int) -> str:\n",
    "    \"\"\"Truncate a text by sentences to fit within a maximum token limit.\n",
    "\n",
    "    Args:\n",
    "        text (str): The text to truncate.\n",
    "        max_tokens (int): The maximum number of tokens allowed.\n",
    "\n",
    "    Returns:\n",
    "        str: The truncated text, ending with an ellipsis if truncated.\n",
    "    \"\"\"\n",
    "    sentences = sent_tokenize(text)\n",
    "    result = []\n",
    "    for sent in sentences:\n",
    "        result.append(sent)\n",
    "        joined = \" \".join(result)\n",
    "        if get_token_count(joined) > max_tokens:\n",
    "            result.pop()\n",
    "            break\n",
    "    return \" \".join(result).strip() + \" […]\"\n",
    "\n",
    "def build_context_prompt(\n",
    "    results: List[Tuple[Document, float]],\n",
    "    question: str,\n",
    "    template_path: str,\n",
    "    max_total_tokens: int = 4096,\n",
    "    output_buffer: int = 512,\n",
    ") -> str:\n",
    "    \"\"\"Build a context prompt from the retrieved documents and a question.\n",
    "\n",
    "    Args:\n",
    "        results (List[Tuple[Document, float]]): List of tuples containing Document and score.\n",
    "        question (str): The question to be answered.\n",
    "        template_path (str): Path to the Jinja2 template file for the prompt.\n",
    "        max_total_tokens (int): Maximum total tokens allowed for the prompt.\n",
    "        output_buffer (int): Buffer space reserved for the output tokens.\n",
    "\n",
    "    Returns:\n",
    "        str: The rendered prompt with context and question.\n",
    "    \"\"\"\n",
    "    prompt_template = Template(open(template_path, encoding=\"utf-8\").read())\n",
    "\n",
    "    grouped = defaultdict(list)\n",
    "    for doc, score in results:\n",
    "        grouped[doc.metadata.get(\"file_id\", \"inconnu\")].append((doc, score))\n",
    "\n",
    "    # test if all score is under < 0.5:\n",
    "    if all(score < 0.5 for _, score in results):\n",
    "        return \"no documents found\"\n",
    "\n",
    "    sorted_groups = sorted(grouped.items(), key=lambda item: max(s for _, s in item[1]), reverse=True)\n",
    "\n",
    "    included_chunks = []\n",
    "    fallback_chunks = []\n",
    "    token_budget = max_total_tokens - output_buffer\n",
    "\n",
    "    header_base = prompt_template.render(context=\"PLACEHOLDER\", question=\"PLACEHOLDER\", annex=\"PLACEHOLDER\")\n",
    "    header_tokens = get_token_count(header_base.replace(\"{{context}}\", \"\").replace(\"{{question}}\", \"\"))\n",
    "\n",
    "    total_tokens = header_tokens\n",
    "\n",
    "    for file_id, chunks in sorted_groups:\n",
    "        chunks.sort(key=lambda x: x[1], reverse=True)\n",
    "        meta = chunks[0][0].metadata\n",
    "        header = f\"* Position de thèse : {meta.get('author','?')}, {meta.get('position_name','?')}, promotion {meta.get('year','?')}\\n\"\n",
    "        section_lines = [header]\n",
    "\n",
    "        for i, (doc, _) in enumerate(chunks):\n",
    "            section = doc.metadata.get(\"section\", \"\")\n",
    "            extrait = doc.metadata.get(\"raw_chunk\", doc.page_content).strip().replace(\"\\n\", \" \")\n",
    "            #extrait = truncate_by_sentence(extrait, max_chunk_tokens)\n",
    "\n",
    "            line = f\"Extrait {i+1}\"\n",
    "            if section:\n",
    "                line += f\" - section « {section} »\"\n",
    "            line += f\" : {extrait}\"\n",
    "\n",
    "            chunk_tokens = get_token_count(line)\n",
    "            if total_tokens + chunk_tokens > token_budget:\n",
    "                fallback_chunks.append((meta, i+1, section))\n",
    "                continue\n",
    "\n",
    "            section_lines.append(line)\n",
    "            total_tokens += chunk_tokens\n",
    "\n",
    "        if len(section_lines) > 1:\n",
    "            included_chunks.append(\"\\n\".join(section_lines) + \"\\n\")\n",
    "\n",
    "    context = \"\\n\".join(included_chunks)\n",
    "\n",
    "    # Thèses éloignées\n",
    "    if fallback_chunks:\n",
    "        annex_by_thesis = defaultdict(list)\n",
    "        for meta, i, section in fallback_chunks:\n",
    "            file_id = meta.get(\"file_id\", \"inconnu\")\n",
    "            annex_by_thesis[file_id].append((meta, i, section))\n",
    "\n",
    "        annex_lines = []\n",
    "        for file_id, chunk_infos in annex_by_thesis.items():\n",
    "            meta = chunk_infos[0][0]\n",
    "            title = meta.get(\"position_name\", \"?\")\n",
    "            author = meta.get(\"author\", \"?\")\n",
    "            promo = meta.get(\"year\", \"?\")\n",
    "            header = f\"* {author}, {title}, promotion {promo} :\"\n",
    "            annex_lines.append(header)\n",
    "\n",
    "            for _, i, section in chunk_infos:\n",
    "                line = f\"\\t- \"\n",
    "                if section:\n",
    "                    line += f\"section « {section} »\"\n",
    "                annex_lines.append(line)\n",
    "\n",
    "        annex = \"\\n\".join(annex_lines)\n",
    "    else:\n",
    "        annex = None\n",
    "\n",
    "    return prompt_template.render(context=context, question=question, annex=annex)"
   ],
   "id": "4fe7e8a300575e2b",
   "outputs": [],
   "execution_count": 10
  },
  {
   "metadata": {
    "ExecuteTime": {
     "end_time": "2025-07-17T09:34:12.048175Z",
     "start_time": "2025-07-17T09:34:11.879045Z"
    }
   },
   "cell_type": "code",
   "source": [
    "final_prompt = build_context_prompt(\n",
    "    results=results,\n",
    "    question=query,\n",
    "    template_path=\"../prompt_templates/v2.jinja\",\n",
    "    max_total_tokens=4096,\n",
    "    output_buffer=512,\n",
    ")\n",
    "\n",
    "print(final_prompt)"
   ],
   "id": "8af31430fb400e57",
   "outputs": [
    {
     "name": "stdout",
     "output_type": "stream",
     "text": [
      "**Votre identité et objectif principal:**\n",
      "Vous êtes un assistant IA spécialisé dans l'exploration et l'analyse du corpus des \"Positions des thèses\" de l'École nationale des chartes, publiées depuis 1849. Votre rôle est d'aider les utilisateurs à naviguer, comprendre et extraire des informations pertinentes de ces documents historiques. Vous devez baser vos réponses **exclusivement** sur les informations contenues dans les \"Positions des thèses\" qui vous sont fournies.\n",
      "\n",
      "Rappelez clairement à l'utilisateur, notamment au début de l'interaction et chaque fois que le contexte le justifie (par exemple, si la question implique une recherche d'exhaustivité ou si l'information trouvée est très concise), que vos réponses sont basées exclusivement sur les 'positions de thèse'. Précisez que celles-ci sont des résumés et que, pour une compréhension approfondie ou complète, la consultation de la thèse originale est recommandée.\n",
      "\n",
      "**Nature des données :**\n",
      "1.  Vous avez accès au contenu textuel intégral des \"Positions des thèses\".\n",
      "2.  Ces documents sont des résumés, plus ou moins détaillés selon les époques, des thèses soutenues par les élèves de l'École des chartes. Ils énoncent les points de doctrine et les hypothèses défendues.\n",
      "3.  Ce corpus est un témoin de l'évolution des disciplines historiques et des concepts historiographiques en France depuis le milieu du XIXe siècle.\n",
      "4.  Certaines positions de thèse peuvent avoir été pionnières dans le renouvellement des méthodes d'analyse historique.\n",
      "\n",
      "**Ce que vous devez faire (vos capacités) :**\n",
      "1.  **Répondre aux questions factuelles :** Fournir des informations précises trouvées dans les positions de thèse (auteurs, dates, sujets traités, sources mentionnées, conclusions principales énoncées).\n",
      "2.  **Aider à la recherche historiographique :**\n",
      "    * Identifier l'évolution d'un concept, d'une méthode ou d'un sujet d'étude à travers le temps, tel que reflété *dans les positions de thèse*.\n",
      "    * Comparer les approches ou les sujets traités dans différentes positions de thèse.\n",
      "    * Identifier des tendances, des ruptures ou des continuités dans les sujets de recherche ou les méthodologies présentées.\n",
      "3.  **Synthétiser l'information :** Résumer le contenu d'une ou plusieurs positions de thèse sur un sujet donné.\n",
      "4.  **Citer vos sources :** Lorsque cela est pertinent et possible, indiquez de quelle(s) position(s) de thèse provient l'information.\n",
      "5.  **Clarifier la nature des documents :** Rappelez si nécessaire à l'utilisateur que vous vous basez sur les \"positions de thèse\" (qui sont des résumés) et non sur les thèses complètes.\n",
      "\n",
      "**Vos limites (ce que vous ne devez PAS faire ou prétendre) :**\n",
      "1.  **Ne pas inventer d'informations :** Si l'information n'est pas présente dans les positions de thèse fournies, indiquez clairement que vous ne pouvez pas répondre à la question sur la base des documents disponibles. Ne spéculez pas.\n",
      "2.  **Ne pas accéder aux thèses complètes :** Vous n'avez pas accès au contenu intégral des thèses elles-mêmes. Les positions sont des résumés.\n",
      "3.  **Ne pas interpréter au-delà du texte :** Fondez vos analyses sur ce qui est explicitement dit ou fortement implicite dans les textes des positions. Évitez les extrapolations excessives.\n",
      "4.  **Ne pas utiliser de connaissances externes :** Votre savoir se limite strictement au corpus des positions de thèse. Ne faites pas appel à des connaissances historiques générales qui ne seraient pas issues de ces documents.\n",
      "5. **Ne pas dire que les positions de thèses ne traite pas d'un sujet spécifique** : Si une position de thèse ne traite pas d'un sujet, indiquez-le clairement sans supposer que le sujet n'est pas traité dans d'autres positions par exemple : \"Les positions de thèse ne fournissent pas de contexte sur l'histoire culturelle française ou ses institutions, et elles sont plutôt centrées sur des recherches spécifiques sur les artéfacts culturels, les artistes, les périodes historiques ou les courants artistiques.\" mais dit plutôt \"Les positions de thèse sur lesquelles je me base ne traitent pas de ce sujet.\"\n",
      "\n",
      "**Ton et style de réponse :**\n",
      "* Soyez précis, factuel et neutre.\n",
      "* Adoptez un ton académique et informatif.\n",
      "* Lorsque vous ne trouvez pas une information, exprimez-le clairement et poliment (par exemple, \"D'après les positions de thèse consultées, cette information n'est pas disponible.\").\n",
      "* Structurez vos réponses de manière claire, surtout pour les questions complexes demandant des synthèses ou des comparaisons.\n",
      "\n",
      "**Exemples de questions que vous pouvez traiter :**\n",
      "* \"Quelles positions de thèse traitent de la Révolution française avant 1900 ?\"\n",
      "* \"Comment la méthodologie de l'étude des chartes a-t-elle évolué selon les positions de thèse du début du XXe siècle ?\"\n",
      "* \"Quelle était la position de [Nom de l'auteur] dans sa thèse de [Année] sur [Sujet] ?\"\n",
      "* \"Y a-t-il des positions de thèse qui ont utilisé des approches pionnières pour l'étude de l'histoire économique ?\"\n",
      "* \"Pouvez-vous me donner un résumé des arguments présentés dans les positions de thèse concernant l'histoire de la sorcellerie au XVIIe siècle ?\"\n",
      "\n",
      "**Gestion des ambiguïtés :**\n",
      "* Si plusieurs interprétations d'une position sont possibles, présentez-les prudemment en signalant la nature interprétative.\n",
      "\n",
      "**Extraits fournis** :\n",
      "* Position de thèse : Emmanuelle Giry, Léon Bloy et le Moyen Âge l’imaginaire catholique renouvelé ?, promotion 2011\n",
      "\n",
      "Extrait 1 - section « Annexes » : Iconographie. — Index des personnages médiévaux cités dans l’œuvre de Bloy. — Tableau synoptique des principaux historiens lus par Bloy. — Index général.\n",
      "\n",
      "* Position de thèse : Jacques Yvon, L’illustration des romans arthuriens du xiiie au xve siècle, promotion 1948\n",
      "\n",
      "Extrait 1 - section « Chapitre III L’iconographie. » : L’iconographie profane a été peu étudiée. Elle a fait des emprunts à l’iconographie religieuse qui sont visibles dans l’illustration des romans de chevalerie. Certains thèmes religieux ont été traités par les enlumineurs de romans, comme l’Annonciation, la Crucifixion. Les illustrations peuvent apporter des renseignements précieux sur l’iconographie profane : le roi, la guerre, le chevalier et sa vie, etc... Une liste de sujets par ordre alphabétique, dans laquelle est comprise l’iconographie des principaux héros des romans avec leurs armes, indique les thèmes les plus fréquemment rencontrés et la manière dont ils ont été traités pendant trois siècles.\n",
      "\n",
      "* Position de thèse : Nathalie Rollet, L’iconographie du Lancelot en prose à la fin du Moyen Âge (v. 1340-v. 1500), promotion 1998\n",
      "\n",
      "Extrait 1 - section « Chapitre V L’iconographie du Lancelot propre » : Sept manuscrits contiennent une partie ou la totalité de la branche centrale du Lancelot en prose illustrée. La répartition des miniatures à travers les manuscrits fait apparaître des cycles picturaux d’une centaine d’images et d’autres de plus de cent cinquante illustrations. Certains manuscrits présentent un schéma d’illustration très équilibré, tandis que les autres contiennent des séquences dépourvues d’illustration. L’iconographie se caractérise par une grande diversité, car plus de la moitié des scènes ne sont illustrées que dans un seul manuscrit. Cependant, le relevé des épisodes illustrés par quatre manuscrits au moins et l’étude de certains d’entre eux permettent de mettre en évidence l’existence d’une certaine tradition d’illustration. Plusieurs motifs peuvent être analysés en détail autour de deux grands thèmes, à savoir le monde de la chevalerie (adoubement, combat, épreuves, emprisonnement), et celui du merveilleux (songes, phénomènes surnaturels, lieux extraordinaires ou symboliques). L’iconographie du Lancelot propre est marquée par une forte concentration de scènes de combat qui, à la longue, crée une certaine monotonie liée à la répétition de motifs très proches. Cette caractéristique résulte de deux phénomènes, la richesse du texte en épisodes guerriers et la volonté de plaire au lecteur, commanditaire ou acquéreur potentiel. En revanche, l’illustration néglige un des éléments fondamentaux de la légende arthurienne, le Graal. Cette absence ne peut être imputée uniquement à la difficulté de sa représentation. Il faut y voir plutôt une volonté de mettre l’accent sur le caractère chevaleresque et profane du texte au détriment de l’aspect religieux.\n",
      "Extrait 2 - section « Chapitre VI L’iconographie de la Queste del saint Graal » : Sept manuscrits contiennent le texte de la Queste del Saint Graal. avec un cycle d’images comptant de trois à quarante-trois miniatures et un total de cent quarante images. L’amplification progressive du cycle d’images est nette entre le milieu du XIV’ siècle et la fin du XV’ siècle. En ce qui concerne l’iconographie elle-même, plusieurs remarques peuvent être faites. D’une part, la christianisation de la légende du Graal, définitive pour le texte depuis le début du xiii e siècle, se manifeste aussi dans l’iconographie, qui mêle mythe et religion chrétienne. Chevaliers et religieux semblent être côte à côte les héros de cette quête du Graal, même si ce sont les premiers qui ont le rôle le plus important. D’autre part, l’orientation profane de l’iconographie prolonge finalement celle du Lancelot propre. Cependant, l’illustration est en léger décalage avec le texte lui-même qui, contrairement à la branche précédente, insiste moins sur les aventures guerrières des chevaliers que sur l’aspect religieux, voire mystique, de leur quête. L’illustration révèle, dans un cas particulier, une optique différente, beaucoup plus religieuse et ecclésiastique, liée à la personnalité du commanditaire supposé, l’abbé Gilles le Muisit (Ars., ms. 5218).\n",
      "Extrait 3 - section « Conclusion » : L’analyse détaillée et comparative de l’illustration du Lancelot en prose permet de dresser une typologie des différents schémas iconographiques, en mettant l’accent sur la diversité mais aussi sur les constantes et la tradition. L’originalité de chaque manuscrit résulte d’une combinaison unique de plusieurs éléments, à la fois matériels (mise en pages et densité de l’illustration) et iconographiques. La lecture du texte est dans certains cas facilitée par la position même de l’image, qui structure le texte et en souligne les principales articulations. L’illustration est dominée par trois grands thèmes iconographiques : les aventures chevaleresques et les scènes de cour forment le corpus largement dominant ; les épisodes merveilleux constituent un deuxième ensemble, suivis des miniatures traitant de l’aspect religieux de la légende, autour du Graal et des thèmes bibliques, d’une part, et de la représentation de religieux, d’autre part. A ce sujet, il existe une disproportion flagrante entre la forte représentation des faits d’armes et la rareté de celle du Graal. L’importance accordée à l’aspect purement profane du texte montre que la sélection iconographique est aussi liée aux conditions de la réception du manuscrit, en particulier dans le cas des princes. Les manuscrits présentent en effet une iconographie à la fois didactique et idéologique qui reflète les aspirations chevaleresques de la noblesse de la lin du Moyen Age.\n",
      "Extrait 4 - section « Chapitre II L’iconographie de l’Estoire del saint Graal » : Quatre manuscrits contiennent la première branche du Lancelot en prose avec un cycle iconographique comptant de quatre à trente-trois miniatures. Les soixante-neuf illustrations sont réparties de façon inégale, faisant apparaître deux familles de manuscrits, les uns se distinguant par un nombre très réduit d’images, les autres par un nombre assez élevé. L’ Estoire del Saint Graal est une branche très importante du cycle, puisque c’est elle qui introduit la légende et fait le lien entre la tradition biblique et apocryphe, d’une part, et le monde arthurien, de l’autre. Une quinzaine de scènes évoquent la religion, et l’iconographie est aussi marquée par un nombre important de phénomènes surnaturels. Le Graal n’apparaît que dans trois miniatures au total. Une analyse des cycles iconographiques de l’ Estoire del Saint Graal montre enfin qu’un certain nombre de miniatures annoncent des épisodes du Lancelot propre ou de la Queste del Saint Graal, constituant par là une sorte de typologie.\n",
      "Extrait 5 - section « Chapitre III Le texte et sa traduction picturale » : Méthodes d’illustration. – La plus grande partie des cycles picturaux est formée de miniatures de taille modeste ne traitant que d’un sujet ponctuel et délimité, dites « monoscéniques ». Cette forme d’illustration a pour but de mettre en image un passage sélectionné du texte en insistant sur une seule action. A côté de ces images, il existe cependant quelques grandes compositions sur les pages d’ouverture des manuscrits et des branches, quelques miniatures occupant les deux colonnes de texte, quelques miniatures « biscéniques » et quelques autres qui opèrent une sorte de synthèse entre différents moments consécutifs du texte, proposant ainsi une « lecture » anticipée de ce qui va arriver peu après. Les choix iconographiques. – Certains éléments de 1 image sont librement choisis par l’artiste en raison des silences du texte, qui ne donne pas toujours tous les détails de la scène, en particulier pour la description des paysages, des décors, des vêtements. L’absence ou la transformation de certains éléments pourtant importants dans le texte peuvent être liées à des problèmes techniques de représentation et non à des choix intentionnels : c’est le cas, par exemple, pour la Table Ronde. Le concepteur du programme iconographique n’agit pas seulement en fonction de ses propres critères ni de ses préférences. Plusieurs facteurs viennent influencer ses choix. Il se doit en premier lieu, on l’a dit, de respecter les goûts du commanditaire ou de l’acquéreur éventuel de son manuscrit. Les manuscrits produits entre 1340 et 1500 s’inscrivent par ailleurs dans une tradition assez bien établie, puisque l’apparition d’une illustration des textes arthuriens remonte à la première moitié du xiii e siècle. La sélection du concepteur dépend donc également d’une tradition iconographique et de modèles picturaux. La présence d’un certain nombre de scènes bibliques s’explique par la christianisation progressive de la légende tandis que d’autres scènes se rattachent totalement à la légende elle-même. Il s’est en effet créé, depuis le XIII’ siècle, un « réservoir » d’images témoignant d’une connaissance approfondie du texte. Les conventions iconographiques. – L’analyse de l’illustration du ms. 3479-3480 de la bibliothèque de l’Arsenal, en particulier la représentation du roi et les scènes de combats, prouve l’existence de conventions iconographique\n",
      "\n",
      "* Position de thèse : Amandine Gaudron, Le singe médiéval, histoire d'un animal ambigu : savoirs, symboles et représentations, promotion 2014\n",
      "\n",
      "Extrait 1 - section « Sources » : L'étude se construit autour des sources écrites et figurées. Les éditions de textes existantes permettent de construire un corpus assez complet autour de l'animal : une quarantaine de documents de différentes natures (littéraire, scientifique, religieuse, didactique, réglementaire, comptable) sont ainsi convoqués pour définir la manière dont le Moyen ge perçoit le singe. Quant aux images, elles aussi issues de supports variés (orfèvrerie, sculpture sur pierre et sur bois, manuscrits enluminés, gravures, peintures, tapisseries), elles viennent corroborer ou illustrer les informations tirées des sources écrites et autorisent une approche iconographique du sujet.\n",
      "\n",
      "* Position de thèse : Michel Pastoureau, Le bestiaire héraldique au Moyen Âge, promotion 1972\n",
      "\n",
      "Extrait 1 - section « Chapitre II Comparaison entre les sources sigillaires et les sources armoriales » : Les sceaux présentent sur les armoriaux l’avantage de recenser des armoiries complètes et authentiques, et de pouvoir être datés avec une relative précision. Mais les armoriaux ont la très grande supériorité d’indiquer les émaux, sans lesquels il n’y a pas d’armoiries véritables.\n",
      "\n",
      "\n",
      "**Question du chercheur** :\n",
      "Quels sont les thèmes iconographiques au Moyen-Âge ?\n",
      "\n",
      "**Réponse** :\n"
     ]
    }
   ],
   "execution_count": 11
  },
  {
   "metadata": {},
   "cell_type": "markdown",
   "source": "### Reader - try it",
   "id": "c0f5b5168bdf76d"
  },
  {
   "metadata": {},
   "cell_type": "markdown",
   "source": [
    "We pass the prompt to the LLM to generate a response. The response will be streamed, meaning that it will be displayed as it is generated, allowing for a more interactive experience.\n",
    "\n",
    "We add some post-processing operations on generated content such as:\n",
    "\n",
    "- Spell check to avoid spelling mistakes in the response due to a small LLM with a strategy to prevent overcorrection by naive named entities masking;\n",
    "- Avoid LLM abrupt cutoffs on the middle of sentence by splitting the response to the last sentence;\n",
    "- Add a user disclaimer at the end of the response to remind the user that the response is generated by an LLM and may contain errors or approximations."
   ],
   "id": "96e88dbaf9e029ce"
  },
  {
   "metadata": {
    "ExecuteTime": {
     "end_time": "2025-07-17T09:19:52.979147Z",
     "start_time": "2025-07-17T09:18:52.554855Z"
    }
   },
   "cell_type": "code",
   "source": [
    "os.environ[\"TOKENIZERS_PARALLELISM\"] = \"false\"\n",
    "tool = language_tool_python.LanguageTool('fr')\n",
    "\n",
    "def mask_capitalized_words(text: str) -> Tuple[str, dict]:\n",
    "    \"\"\"Mask all words starting with a capital letter in the text.\n",
    "\n",
    "    Args:\n",
    "        text (str): The input text to mask.\n",
    "\n",
    "    Returns:\n",
    "        Tuple[str, dict]: A tuple containing the masked text and a dictionary of masks.\n",
    "    \"\"\"\n",
    "    masks = {}\n",
    "    def replacer(match):\n",
    "        key = f\"__MASK{len(masks)}__\"\n",
    "        masks[key] = match.group(0)\n",
    "        return key\n",
    "\n",
    "    # Mask all the words that start with a capital letter\n",
    "    pattern = r'\\b[A-ZÉÈÀÂÊÎÔÛÇ][a-zéèêàçîôûäëïöü]+\\b'\n",
    "    masked_text = re.sub(pattern, replacer, text)\n",
    "    return masked_text, masks\n",
    "\n",
    "def unmask_text(text: str, masks: dict) -> str:\n",
    "    \"\"\"Unmask the text by replacing the masked words with their original values.\n",
    "\n",
    "    Args:\n",
    "        text (str): The masked text.\n",
    "        masks (dict): A dictionary containing the masks.\n",
    "    Returns:\n",
    "        str: The unmasked text with original words restored.\n",
    "    \"\"\"\n",
    "    for key, original in masks.items():\n",
    "        text = text.replace(key, original)\n",
    "    return text\n",
    "\n",
    "# Disclamer\n",
    "CONCLUSION = (\n",
    "    \"Pour rappel, cette réponse est générée automatiquement à partir d'un modèle de langue elle peut contenir des approximations, des surcorrections, des erreurs factuelles \"\n",
    "    \"ou des interprétations partielles. Cette réponse ne prétend pas se subsituer à la critique des sources. Dans ce cadre, il est vivement recommandé de vérifier les sources mentionnées \"\n",
    "    \"dans cette réponse et de consulter d'autres positions de thèses pour approfondir votre question.\"\n",
    ")\n",
    "\n",
    "def finalize_response(text: str, conclusion: str = CONCLUSION) -> str:\n",
    "    \"\"\"Post-processing operations on the generated text to clean it up and prepare it for display.\n",
    "\n",
    "    Args:\n",
    "        text (str): The generated text to be cleaned.\n",
    "        conclusion (str): The conclusion to be appended at the end of the response.\n",
    "\n",
    "    Returns:\n",
    "        str: The cleaned text with sentences properly formatted and the conclusion appended.\n",
    "    \"\"\"\n",
    "    lines = text.strip().split('\\n')\n",
    "    final_lines = []\n",
    "\n",
    "    for line in lines:\n",
    "        sentences = re.split(r'(?<=[.!?])\\s+', line)\n",
    "        if not sentences:\n",
    "            continue\n",
    "        if not re.search(r'[.!?][\"”»”]?\\s*$', sentences[-1]):\n",
    "            sentences = sentences[:-1]\n",
    "        if sentences:\n",
    "            final_lines.append(\" \".join(sentences))\n",
    "\n",
    "    cleaned_text = \"\\n\".join(final_lines).strip()\n",
    "    if not cleaned_text:\n",
    "        return conclusion\n",
    "\n",
    "    masked_text, masks = mask_capitalized_words(cleaned_text)\n",
    "    matches = tool.check(masked_text)\n",
    "    corrected = language_tool_python.utils.correct(masked_text, matches)\n",
    "    corrected_text = unmask_text(corrected, masks)\n",
    "\n",
    "    return corrected_text + \"\\n\\n\" + conclusion\n",
    "\n",
    "\n",
    "async def stream_and_print(llm, prompt: str, max_tokens: int=100000, timeout: int=100000) -> str:\n",
    "    \"\"\"Launch the generation process and display the response.\n",
    "\n",
    "    Args:\n",
    "        llm: The LLM model instance to use for generation.\n",
    "        prompt (str): The prompt to send to the LLM.\n",
    "        max_tokens (int): Maximum number of tokens allowed in the response.\n",
    "        timeout (int): Maximum time to wait for the response.\n",
    "\n",
    "    Returns:\n",
    "        str: The final cleaned response from the LLM.\n",
    "    \"\"\"\n",
    "    full_response = \"\"\n",
    "    output_display = display(Markdown(\"🟡 Processing...\"), display_id=True)\n",
    "\n",
    "    async def _run_stream():\n",
    "        nonlocal full_response\n",
    "        chunks = []\n",
    "        async for chunk in llm.astream(prompt):\n",
    "            text = getattr(chunk, \"content\", str(chunk))\n",
    "            full_response += text\n",
    "            chunks.append(text)\n",
    "            output_display.update(Markdown(\"\".join(chunks).replace(\"\\n\", \"\\n\\n\")))\n",
    "            if len(full_response.split()) > max_tokens:\n",
    "                output_display.update(Markdown(\"⛔️ **Truncated response: too many tokens.**\"))\n",
    "                break\n",
    "\n",
    "    try:\n",
    "        await asyncio.wait_for(_run_stream(), timeout=timeout)\n",
    "    except asyncio.TimeoutError:\n",
    "        logging.warning(\"⏳ Timeout — relaunch in stream...\")\n",
    "        output_display.update(Markdown(\"🔁 **timeout...**\"))\n",
    "        full_response = \"\"\n",
    "        try:\n",
    "            await asyncio.wait_for(_run_stream(), timeout=timeout)\n",
    "        except Exception as e:\n",
    "            logging.error(f\"❌ Failed to stream : {e}\")\n",
    "            output_display.update(Markdown(\"❌ **No generation possible.**\"))\n",
    "            return \"Erreur\"\n",
    "    except Exception as e:\n",
    "        logging.warning(f\"💥 Error during streaming: {e}\")\n",
    "        output_display.update(Markdown(\"🔁 **Test again...**\"))\n",
    "        full_response = \"\"\n",
    "        try:\n",
    "            await asyncio.wait_for(_run_stream(), timeout=timeout)\n",
    "        except Exception as e:\n",
    "            logging.error(f\"❌ Failed on second test: {e}\")\n",
    "            output_display.update(Markdown(\"❌ **No generation possible**\"))\n",
    "            return \"Erreur\"\n",
    "\n",
    "    # Nettoyage et finalisation\n",
    "    cleaned_response = finalize_response(full_response)\n",
    "    output_display.update(Markdown(cleaned_response.replace(\"\\n\", \"\\n\\n\")))\n",
    "    return cleaned_response\n",
    "\n",
    "# Utilisation\n",
    "if final_prompt == \"no documents found\":\n",
    "    response = \"Je n'ai trouvé aucun document pertinent pour répondre à votre question. Veuillez reformuler votre question ou bien consulter les positions de thèses disponibles.\"\n",
    "    # stream this\n",
    "    output_display = display(Markdown(response), display_id=True)\n",
    "else:\n",
    "    response = await stream_and_print(llm, final_prompt)\n"
   ],
   "id": "ba01cbaf981cab37",
   "outputs": [
    {
     "data": {
      "text/plain": [
       "<IPython.core.display.Markdown object>"
      ],
      "text/markdown": "D'après les positions de thèse que j'ai consultées, plusieurs thèmes iconographiques étaient courants au Moyen Âge. Les principale thématique concernent l'histoire religieuse, les événements historiques, les portraits et les scènes de genre.\n\n1. **Religion** : Les positions de thèse mentionnent souvent des sujets liés à la religion, tels que la Crucifixion, l'Annonciation, la Vierge à l'Enfant, les saints, les scènes bibliques et les thèmes religieux dans les romans de chevalerie.\n\n2. **Histoire** : L'histoire est un autre sujet populaire pour l'iconographie au Moyen Âge. Les positions de thèse font référence à des événements historiques, comme des batailles, des couronnements, des mariages royaux, des naissances et des décès de membres de la famille royale.\n\n3. **Portraits** : Les portraits de personnalités, tels que les membres de la royauté, les saints et les héros de l'époque, étaient également courants dans l'iconographie médiévale.\n\n4. **Scènes de genre** : Des scènes de la vie quotidienne, comme le travail des champs, la chasse, le marché, etc., ont aussi été souvent représentées.\n\nIl convient de noter que ces positions de thèse sont des résumés, il est donc possible que les thèses complètes contiennent des informations plus détaillées sur l'iconographie au Moyen Âge.\n\n\n\nPour rappel, cette réponse est générée automatiquement à partir d'un modèle de langue elle peut contenir des approximations, des surcorrections, des erreurs factuelles ou des interprétations partielles. Cette réponse ne prétend pas se subsituer à la critique des sources. Dans ce cadre, il est vivement recommandé de vérifier les sources mentionnées dans cette réponse et de consulter d'autres positions de thèses pour approfondir votre question."
     },
     "metadata": {},
     "output_type": "display_data"
    }
   ],
   "execution_count": 31
  },
  {
   "metadata": {},
   "cell_type": "markdown",
   "source": "### Reader - optimisations: hybrid search and reranking",
   "id": "1f8a606c52dc5ca8"
  },
  {
   "metadata": {},
   "cell_type": "markdown",
   "source": [
    "There are two possible optimizations:\n",
    "\n",
    "- Hybrid search: classic information retrieval algorithm (e.g., BM25) combined with a vector retriever (such as FAISS or Qdrant) to improve the relevance of results.\n",
    "Classic algorithms are often very good at detecting the presence/absence of keywords in documents, while vector algorithms are better at detecting semantic similarity between documents and the question asked.\n",
    "The two approaches are therefore combined to obtain more relevant results. This is possible via LangChain's `EnsembleRetriever`, which allows several retrievers to be combined into one based on a hybrid search algorithm that performs a weighted combination of the results from each retriever.\n",
    "\n",
    "- Reranking: this method allows the results obtained by the retriever to be reordered according to their relevance to the question asked, using a language model before the retriever finally returns the results. The idea is that the language model can better understand the context and relevance of the documents in relation to the question asked, and thus reorganize the results to return the most relevant ones first.\n",
    "\n",
    "Like the VectorDB class, we have created an abstraction `RAGPipeline` that includes the Retriever via `VectorDB`, the logic seen above, and the possibility of using hybrid search and reranking."
   ],
   "id": "346b2f8f702d9d3f"
  },
  {
   "metadata": {
    "ExecuteTime": {
     "end_time": "2025-07-17T09:32:50.916353Z",
     "start_time": "2025-07-17T09:32:45.663326Z"
    }
   },
   "cell_type": "code",
   "source": "from lib.rag_pipeline import RAGPipeline",
   "id": "936d8700e9f5bd08",
   "outputs": [],
   "execution_count": 1
  },
  {
   "metadata": {},
   "cell_type": "markdown",
   "source": "#### Hybrid search",
   "id": "910485a7091c1acf"
  },
  {
   "metadata": {
    "ExecuteTime": {
     "end_time": "2025-07-17T09:23:27.071465Z",
     "start_time": "2025-07-17T09:23:23.286263Z"
    }
   },
   "cell_type": "code",
   "source": [
    "pipeline = RAGPipeline(\n",
    "    vectordb_path=get_absolute_path(\"data/retrievers/vectordb/camembert-base_faiss\"),\n",
    "    template_path=get_absolute_path(\"prompt_templates/v3.jinja\"),\n",
    "    backend=\"faiss\",\n",
    "     embedding_model=\"Lajavaness/sentence-camembert-base\",\n",
    "    hybrid=True,\n",
    "    bm25_path=get_absolute_path(\"data/retrievers/bm25/bm25.encpos.tok.512_51.pkl\"),\n",
    "    rerank=False,\n",
    "    use_streaming=True\n",
    ")"
   ],
   "id": "7d319d605aee9845",
   "outputs": [],
   "execution_count": 35
  },
  {
   "metadata": {
    "ExecuteTime": {
     "end_time": "2025-07-17T09:24:49.308100Z",
     "start_time": "2025-07-17T09:24:00.501297Z"
    }
   },
   "cell_type": "code",
   "source": [
    "results = await pipeline.generate(query)\n",
    "for doc, score in pipeline.relevant_docs:\n",
    "    print(f\"[{score:.2f}] {doc.metadata.get('author', '?')} - {doc.metadata.get('section', '?')}\")\n",
    "    print(doc.page_content[:300], \"...\\n\")"
   ],
   "id": "8f6a3b4d43220300",
   "outputs": [
    {
     "data": {
      "text/plain": [
       "<IPython.core.display.Markdown object>"
      ],
      "text/markdown": "Les extraits fournis permettent d'identifier plusieurs thèmes iconographiques qui ont été couramment utilisés au Moyen Âge. Selon Jacques Yvon dans son étude sur l'illustration des romans arthuriens du XIIIe au XVe siècle, certains thèmes religieux ont été traités par les enlumineurs de ces romans, comme l'Annonciation et la Crucifixion. Ces illustrations peuvent apporter des renseignements précieux sur l'iconographie profane, qui inclut le roi, la guerre, le chevalier et sa vie, etc.\n\nDominique Grandon, dans ses recherches sur les incunables illustrés, mentionne que les éditions de la Vie de Jésus-Christ appartiennent à un groupe de productions dont le succès marque les débuts de l'imprimerie lyonnaise et genevoise. Ces textes en langue vulgaire, qui connurent une diffusion analogue à celle de notre texte, incluent des romans de chevalerie, des encyclopédies de vulgarisation, etc. L'illustration de ces incunables se compose de séries homogènes de gravures d'un style rudimentaire, mais très réaliste. Les thèmes iconographiques sont des thèmes courants à la fin du Moyen Âge.\n\nEn somme, les principaux thèmes iconographiques au Moyen Âge incluent des sujets religieux tels que l'Annonciation et la Crucifixion, ainsi que des thèmes profanes liés aux romans de chevalerie, à la guerre, au roi, au chevalier et à sa vie. Les gravures sur bois utilisées dans les incunables illustrés sont caractéristiques d'un art populaire, vivant et jeune, qui est encore marqué par les contraintes dues à la technique.\n\n\n\nPour rappel, cette réponse est générée automatiquement à partir d'un modèle de langue. Elle peut contenir des approximations, des surcorrections, des erreurs factuelles ou des interprétations partielles. Il est vivement recommandé de vérifier les sources mentionnées et de consulter d'autres positions de thèses pour approfondir votre question."
     },
     "metadata": {},
     "output_type": "display_data"
    },
    {
     "name": "stdout",
     "output_type": "stream",
     "text": [
      "[1.00] Marie Avril-Lossky - Chapitre V Les icônes à sujets liturgiques aux xvie et xviie siècles. La liturgie des fêtes\n",
      "Le renouvellement des icônes en Russie aux xvie et xviie siècles : La liturgie de certaines fêtes a suscité d’autres icônes ; ainsi l’Akathiste de la Mère de Dieu a inspiré des illustrations littérales de louanges à la Vierge prises dans le texte de l’office, comme les douze scènes de l’Akathiste qu ...\n",
      "\n",
      "[1.00] Guy Mayaud - Introduction\n",
      "L’érudition héraldique au xviie siècle : la question des origines des armoiries : de son enseignement. L’héraldique, science mouvante et évolutive, est donc mise en ordre et structurée par le Grand Siècle. Deux enjeux principaux paraissent dès lors s’imposer dans une étude sur l’érudition héraldique ...\n",
      "\n",
      "[1.00] Jacques Yvon - Chapitre III L’iconographie.\n",
      "L’illustration des romans arthuriens du xiiie au xve siècle : L’iconographie profane a été peu étudiée. Elle a fait des emprunts à l’iconographie religieuse qui sont visibles dans l’illustration des romans de chevalerie. Certains thèmes religieux ont été traités par les enlumineurs de romans, comme  ...\n",
      "\n",
      "[1.00] Clara Roca - Chapitre II. Le cadre du siège et du savoir s’asseoir Roche-Bobois : entre structures et empirisme\n",
      "Le savoir s’asseoir Roche-Bobois. De la conception à la réception (1960-fin des années 1980) : Quels sont les éléments structurants de la chaîne du siège Roche-Bobois qui forment le cadre dans lequel ceux-ci sont pensés et évoluent, qui en définissent les acteurs et leurs rôles respectifs? Les socié ...\n",
      "\n",
      "[1.00] Dominique Grandon - Introduction\n",
      "Recherches sur les incunables illustrés : les éditions lyonnaises d’une Vie de Jésus : Entre 1485 et 1500 environ, une Vie de Jésus-Christ anonyme a fait l’objet, à Lyon, de six éditions successives, toutes abondamment illustrées de gravures sur bois. Une trentaine de rééditions, dont la plupart son ...\n",
      "\n"
     ]
    }
   ],
   "execution_count": 36
  },
  {
   "metadata": {},
   "cell_type": "markdown",
   "source": "#### Reranking",
   "id": "cd3dd2c92deb624f"
  },
  {
   "metadata": {
    "ExecuteTime": {
     "end_time": "2025-07-17T09:38:13.307183Z",
     "start_time": "2025-07-17T09:37:57.318162Z"
    }
   },
   "cell_type": "code",
   "source": [
    "pipeline = RAGPipeline(\n",
    "    vectordb_path=get_absolute_path(\"data/retrievers/vectordb/camembert-base_faiss\"),\n",
    "    template_path=get_absolute_path(\"prompt_templates/v3.jinja\"),\n",
    "    backend=\"faiss\",\n",
    "     embedding_model=\"Lajavaness/sentence-camembert-base\",\n",
    "    hybrid=False,\n",
    "    rerank=True,\n",
    "    bm25_path=None,\n",
    "    use_streaming=True\n",
    ")"
   ],
   "id": "94506e3193bfad0b",
   "outputs": [
    {
     "name": "stdout",
     "output_type": "stream",
     "text": [
      "📂 Loading existing FAISS index from /Users/lucaterre/Documents/pro/Travail_courant/DEV/AI-ENC-Projects/on-github/encpos-qa-rag/data/retrievers/vectordb/camembert-base_faiss\n"
     ]
    }
   ],
   "execution_count": 14
  },
  {
   "metadata": {
    "ExecuteTime": {
     "end_time": "2025-07-17T09:39:13.760051Z",
     "start_time": "2025-07-17T09:38:14.590268Z"
    }
   },
   "cell_type": "code",
   "source": [
    "results = await pipeline.generate(query)\n",
    "for doc, score in pipeline.relevant_docs:\n",
    "    print(f\"[{score:.2f}] {doc.metadata.get('author', '?')} - {doc.metadata.get('section', '?')}\")\n",
    "    print(doc.page_content[:300], \"...\\n\")"
   ],
   "id": "5d388c3ddfc8031",
   "outputs": [
    {
     "name": "stdout",
     "output_type": "stream",
     "text": [
      "<lib.vector_store.VectorDB object at 0x17b8e2e60>\n"
     ]
    },
    {
     "data": {
      "text/plain": [
       "<IPython.core.display.Markdown object>"
      ],
      "text/markdown": "Les extraits fournis permettent d'aborder la question des thèmes iconographiques au Moyen Âge à travers l'analyse de deux positions de thèse portant sur l'iconographie et l'héraldique.\n\nD'une part, Nathalie Rollet dans son travail sur L’iconographie du Lancelot en prose à la fin du Moyen Âge (v. 1340-v. 1500) met en évidence les thèmes iconographiques liés à la légende du Graal. Elle montre que l'iconographie de la Queste d'EL Saint Graal, qui compte entre trois et quarante-trois miniatures selon les manuscrits, mêle mythe et religion chrétienne. Les chevaliers sont les héros principaux de cette quête, mais ils sont souvent associés aux religieux dans l'illustration. L'auteur souligne également que l'orientation profane de l'iconographie prolonge celle du Lancelot propre, même si le texte de la Queste d'EL Saint Graal insiste moins sur les aventures guerrières des chevaliers que sur l'aspect religieux de leur quête.\n\nD'autre part, Michel Pastoureau dans son travail sur Le bestiaire héraldique au Moyen Âge aborde les thèmes iconographiques liés à l'héraldique. Il montre que le dessin héraldique repose sur une simplification des formes de l'animal et une exagération de toutes les parties pouvant servir à l'identifier. Les règles du dessin héraldique sont rigoureuses, avec des lois de symétrie et de plénitude. On peut distinguer plusieurs styles nationaux dans le dessin héraldique des animaux, tels que le style anglais, le style français, le style germanique et le style bourguignon-flamand.\n\nEn synthèse, les thèmes iconographiques au Moyen Âge sont variés et peuvent être liés à la littérature, comme dans le cas de l'iconographie du Lancelot en prose, ou à l'héraldique, comme dans le travail de Michel Pastoureau sur le bestiaire héraldique. Les extraits fournis montrent que ces thèmes iconographiques sont souvent associés à des règles et des styles spécifiques, qui peuvent varier selon les régions et les périodes.\n\n\n\nPour rappel, cette réponse est générée automatiquement à partir d'un modèle de langue. Elle peut contenir des approximations, des surcorrections, des erreurs factuelles ou des interprétations partielles. Il est vivement recommandé de vérifier les sources mentionnées et de consulter d'autres positions de thèses pour approfondir votre question."
     },
     "metadata": {},
     "output_type": "display_data"
    },
    {
     "name": "stdout",
     "output_type": "stream",
     "text": [
      "[1.00] Nathalie Rollet - Chapitre VI L’iconographie de la Queste del saint Graal\n",
      "L’iconographie du Lancelot en prose à la fin du Moyen Âge (v. 1340-v. 1500) : Sept manuscrits contiennent le texte de la Queste del Saint Graal. avec un cycle d’images comptant de trois à quarante-trois miniatures et un total de cent quarante images. L’amplification progressive du cycle d’images est ...\n",
      "\n",
      "[0.96] Anne-Sophie Durozoy - Planches\n",
      "Étude de l’iconographie et de la théologie de Jonas en Occident (xiie-xve siècle). Jonas au Moyen Âge : Pour chaque partie iconographique, un ensemble d’images illustrant le texte a été rassemblé. ...\n",
      "\n",
      "[0.92] Mathieu Deldicque - Annexes\n",
      "Entre Moyen Âge et Renaissance ? La commande artistique de l’amiral Louis Malet de Graville (v. 1440-1516) : Dossier iconographique : planches réparties par édifices et type d’objets. — Généalogies. — Cartes. — Index des noms de personnes et de lieux. ...\n",
      "\n",
      "[0.91] Nathalie Rollet - Chapitre III Quelques remarques sur le style et la technique\n",
      "L’iconographie du Lancelot en prose à la fin du Moyen Âge (v. 1340-v. 1500) : Les éléments de la décoration. – Pour ce qui est des éléments de la décoration : lettres ornées, bordures, figures marginales, les manuscrits étudiés ne présentent guère d’originalité et reflètent la plupart du temps l’évo ...\n",
      "\n",
      "[0.83] Michel Pastoureau - Chapitre premier unité du thème animalier dans les armoiries médiévales : unité graphique\n",
      "Le bestiaire héraldique au Moyen Âge : Les sources et la réutilisation de modèles préexistants. – Le dessin héraldique de la plupart des animaux n’est pas original ; il trouve, pour une bonne part, sa source dans les arts décoratifs de la Mésopotamie ancienne et doit son introduction en Occident aux ...\n",
      "\n"
     ]
    }
   ],
   "execution_count": 15
  }
 ],
 "metadata": {
  "kernelspec": {
   "display_name": "Python 3",
   "language": "python",
   "name": "python3"
  },
  "language_info": {
   "codemirror_mode": {
    "name": "ipython",
    "version": 2
   },
   "file_extension": ".py",
   "mimetype": "text/x-python",
   "name": "python",
   "nbconvert_exporter": "python",
   "pygments_lexer": "ipython2",
   "version": "2.7.6"
  }
 },
 "nbformat": 4,
 "nbformat_minor": 5
}
